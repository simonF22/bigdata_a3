{
 "cells": [
  {
   "cell_type": "markdown",
   "id": "a22235e9",
   "metadata": {},
   "source": [
    "# Converting Raw Data to Parquet\n",
    "\n",
    "This tasks will take the raw review and meta datasets of each category and store them in a parquet file for further use."
   ]
  },
  {
   "cell_type": "code",
   "execution_count": 1,
   "id": "a2a984b0",
   "metadata": {},
   "outputs": [],
   "source": [
    "import findspark\n",
    "from pyspark.sql import SparkSession\n",
    "from datasets import load_from_disk"
   ]
  },
  {
   "cell_type": "code",
   "execution_count": 2,
   "id": "cc9bdc12",
   "metadata": {},
   "outputs": [],
   "source": [
    "findspark.init()"
   ]
  },
  {
   "cell_type": "code",
   "execution_count": 3,
   "id": "3cb88875",
   "metadata": {},
   "outputs": [],
   "source": [
    "spark = SparkSession.builder \\\n",
    ".master(\"local[6]\") \\\n",
    ".appName(\"Amazon Reviews\") \\\n",
    ".config(\"spark.driver.memory\", \"12g\") \\\n",
    ".config(\"spark.executor.memory\", \"12g\") \\\n",
    ".config(\"spark.local.dir\", \"D:/BigData/spark_temp\") \\\n",
    ".getOrCreate()"
   ]
  },
  {
   "cell_type": "markdown",
   "id": "e85fb6fd",
   "metadata": {},
   "source": [
    "### All Beauty"
   ]
  },
  {
   "cell_type": "code",
   "execution_count": 7,
   "id": "fe3e775f",
   "metadata": {},
   "outputs": [
    {
     "data": {
      "application/vnd.jupyter.widget-view+json": {
       "model_id": "b11f424e30dc425abf1d4cfc29d26537",
       "version_major": 2,
       "version_minor": 0
      },
      "text/plain": [
       "Creating parquet from Arrow format:   0%|          | 0/702 [00:00<?, ?ba/s]"
      ]
     },
     "metadata": {},
     "output_type": "display_data"
    },
    {
     "data": {
      "application/vnd.jupyter.widget-view+json": {
       "model_id": "aa7bf29aec8349d4a11546810a209e1f",
       "version_major": 2,
       "version_minor": 0
      },
      "text/plain": [
       "Creating parquet from Arrow format:   0%|          | 0/113 [00:00<?, ?ba/s]"
      ]
     },
     "metadata": {},
     "output_type": "display_data"
    },
    {
     "data": {
      "text/plain": [
       "172622243"
      ]
     },
     "execution_count": 7,
     "metadata": {},
     "output_type": "execute_result"
    }
   ],
   "source": [
    "reviews = load_from_disk(\"D:/BigData/raw_review_All_Beauty\")[\"full\"]\n",
    "reviews.to_parquet(\"D:/BigData/review_parquet_All_Beauty\")\n",
    "\n",
    "meta = load_from_disk(\"D:/BigData/raw_meta_All_Beauty\")[\"full\"]\n",
    "meta.to_parquet(\"D:/BigData/meta_parquet_All_Beauty\")"
   ]
  },
  {
   "cell_type": "markdown",
   "id": "238de270",
   "metadata": {},
   "source": [
    "### Amazon Fashion"
   ]
  },
  {
   "cell_type": "code",
   "execution_count": null,
   "id": "85b7653b",
   "metadata": {},
   "outputs": [
    {
     "data": {
      "application/vnd.jupyter.widget-view+json": {
       "model_id": "d4915b9fa6394129bf971a25b38fbd34",
       "version_major": 2,
       "version_minor": 0
      },
      "text/plain": [
       "Creating parquet from Arrow format:   0%|          | 0/2501 [00:00<?, ?ba/s]"
      ]
     },
     "metadata": {},
     "output_type": "display_data"
    },
    {
     "data": {
      "application/vnd.jupyter.widget-view+json": {
       "model_id": "fc48f7e857724d1ab55db2ac1dd795ec",
       "version_major": 2,
       "version_minor": 0
      },
      "text/plain": [
       "Creating parquet from Arrow format:   0%|          | 0/827 [00:00<?, ?ba/s]"
      ]
     },
     "metadata": {},
     "output_type": "display_data"
    },
    {
     "data": {
      "text/plain": [
       "1144976848"
      ]
     },
     "execution_count": 9,
     "metadata": {},
     "output_type": "execute_result"
    }
   ],
   "source": [
    "reviews = load_from_disk(\"D:/BigData/raw_review_Amazon_Fashion\")[\"full\"]\n",
    "reviews.to_parquet(\"D:/BigData/review_parquet_Amazon_Fashion\")\n",
    "\n",
    "meta = load_from_disk(\"D:/BigData/raw_meta_Amazon_Fashion\")[\"full\"]\n",
    "meta.to_parquet(\"D:/BigData/meta_parquet_Amazon_Fashion\")"
   ]
  },
  {
   "cell_type": "markdown",
   "id": "5f87bf43",
   "metadata": {},
   "source": [
    "### Appliances"
   ]
  },
  {
   "cell_type": "code",
   "execution_count": 11,
   "id": "bc0d5f41",
   "metadata": {},
   "outputs": [
    {
     "data": {
      "application/vnd.jupyter.widget-view+json": {
       "model_id": "821d1c9e86c04f38882649fb7bbfd049",
       "version_major": 2,
       "version_minor": 0
      },
      "text/plain": [
       "Creating parquet from Arrow format:   0%|          | 0/2129 [00:00<?, ?ba/s]"
      ]
     },
     "metadata": {},
     "output_type": "display_data"
    },
    {
     "data": {
      "application/vnd.jupyter.widget-view+json": {
       "model_id": "4b9eb8ed564d47b1b740c9a3c3982768",
       "version_major": 2,
       "version_minor": 0
      },
      "text/plain": [
       "Creating parquet from Arrow format:   0%|          | 0/95 [00:00<?, ?ba/s]"
      ]
     },
     "metadata": {},
     "output_type": "display_data"
    },
    {
     "data": {
      "text/plain": [
       "249325037"
      ]
     },
     "execution_count": 11,
     "metadata": {},
     "output_type": "execute_result"
    }
   ],
   "source": [
    "reviews = load_from_disk(\"D:/BigData/raw_review_Appliances\")[\"full\"]\n",
    "reviews.to_parquet(\"D:/BigData/review_parquet_Appliances\")\n",
    "\n",
    "meta = load_from_disk(\"D:/BigData/raw_meta_Appliances\")[\"full\"]\n",
    "meta.to_parquet(\"D:/BigData/meta_parquet_Appliances\")"
   ]
  },
  {
   "cell_type": "markdown",
   "id": "57a8d4ad",
   "metadata": {},
   "source": [
    "### Arts Crafts and Sewing"
   ]
  },
  {
   "cell_type": "code",
   "execution_count": 13,
   "id": "b2e74d40",
   "metadata": {},
   "outputs": [
    {
     "data": {
      "application/vnd.jupyter.widget-view+json": {
       "model_id": "c62dbdaabf3c4725b7d3da3a767499f7",
       "version_major": 2,
       "version_minor": 0
      },
      "text/plain": [
       "Creating parquet from Arrow format:   0%|          | 0/8967 [00:00<?, ?ba/s]"
      ]
     },
     "metadata": {},
     "output_type": "display_data"
    },
    {
     "data": {
      "application/vnd.jupyter.widget-view+json": {
       "model_id": "7483ee85f6c34067a7635dd67403b0dd",
       "version_major": 2,
       "version_minor": 0
      },
      "text/plain": [
       "Creating parquet from Arrow format:   0%|          | 0/802 [00:00<?, ?ba/s]"
      ]
     },
     "metadata": {},
     "output_type": "display_data"
    },
    {
     "data": {
      "text/plain": [
       "1893261407"
      ]
     },
     "execution_count": 13,
     "metadata": {},
     "output_type": "execute_result"
    }
   ],
   "source": [
    "reviews = load_from_disk(\"D:/BigData/raw_review_Arts_Crafts_and_Sewing\")[\"full\"]\n",
    "reviews.to_parquet(\"D:/BigData/review_parquet_Arts_Crafts_and_Sewing\")\n",
    "\n",
    "meta = load_from_disk(\"D:/BigData/raw_meta_Arts_Crafts_and_Sewing\")[\"full\"]\n",
    "meta.to_parquet(\"D:/BigData/meta_parquet_Arts_Crafts_and_Sewing\")"
   ]
  },
  {
   "cell_type": "markdown",
   "id": "e0835d5e",
   "metadata": {},
   "source": [
    "### Automotive"
   ]
  },
  {
   "cell_type": "code",
   "execution_count": 15,
   "id": "33a72b55",
   "metadata": {},
   "outputs": [
    {
     "data": {
      "application/vnd.jupyter.widget-view+json": {
       "model_id": "39c58068852e4096833e1fdb9857799d",
       "version_major": 2,
       "version_minor": 0
      },
      "text/plain": [
       "Creating parquet from Arrow format:   0%|          | 0/19956 [00:00<?, ?ba/s]"
      ]
     },
     "metadata": {},
     "output_type": "display_data"
    },
    {
     "data": {
      "application/vnd.jupyter.widget-view+json": {
       "model_id": "6a9860d382b149a0ad8f88ec6880ff54",
       "version_major": 2,
       "version_minor": 0
      },
      "text/plain": [
       "Creating parquet from Arrow format:   0%|          | 0/2004 [00:00<?, ?ba/s]"
      ]
     },
     "metadata": {},
     "output_type": "display_data"
    },
    {
     "data": {
      "text/plain": [
       "4700533152"
      ]
     },
     "execution_count": 15,
     "metadata": {},
     "output_type": "execute_result"
    }
   ],
   "source": [
    "reviews = load_from_disk(\"D:/BigData/raw_review_Automotive\")[\"full\"]\n",
    "reviews.to_parquet(\"D:/BigData/review_parquet_Automotive\")\n",
    "\n",
    "meta = load_from_disk(\"D:/BigData/raw_meta_Automotive\")[\"full\"]\n",
    "meta.to_parquet(\"D:/BigData/meta_parquet_Automotive\")"
   ]
  },
  {
   "cell_type": "markdown",
   "id": "9543f5ad",
   "metadata": {},
   "source": [
    "### Baby Products"
   ]
  },
  {
   "cell_type": "code",
   "execution_count": 17,
   "id": "78bded59",
   "metadata": {},
   "outputs": [
    {
     "data": {
      "application/vnd.jupyter.widget-view+json": {
       "model_id": "55088caa79824d0ab14bd4a5d5680fda",
       "version_major": 2,
       "version_minor": 0
      },
      "text/plain": [
       "Creating parquet from Arrow format:   0%|          | 0/6029 [00:00<?, ?ba/s]"
      ]
     },
     "metadata": {},
     "output_type": "display_data"
    },
    {
     "data": {
      "application/vnd.jupyter.widget-view+json": {
       "model_id": "7d1a24ce944d4ae48364278dc98527e6",
       "version_major": 2,
       "version_minor": 0
      },
      "text/plain": [
       "Creating parquet from Arrow format:   0%|          | 0/218 [00:00<?, ?ba/s]"
      ]
     },
     "metadata": {},
     "output_type": "display_data"
    },
    {
     "data": {
      "text/plain": [
       "603639554"
      ]
     },
     "execution_count": 17,
     "metadata": {},
     "output_type": "execute_result"
    }
   ],
   "source": [
    "reviews = load_from_disk(\"D:/BigData/raw_review_Baby_Products\")[\"full\"]\n",
    "reviews.to_parquet(\"D:/BigData/review_parquet_Baby_Products\")\n",
    "\n",
    "meta = load_from_disk(\"D:/BigData/raw_meta_Baby_Products\")[\"full\"]\n",
    "meta.to_parquet(\"D:/BigData/meta_parquet_Baby_Products\")"
   ]
  },
  {
   "cell_type": "markdown",
   "id": "1cb485ac",
   "metadata": {},
   "source": [
    "### Beauty and Personal Care"
   ]
  },
  {
   "cell_type": "code",
   "execution_count": null,
   "id": "25a851df",
   "metadata": {},
   "outputs": [
    {
     "data": {
      "application/vnd.jupyter.widget-view+json": {
       "model_id": "a89decb1858c4febaaaef997a07c89b7",
       "version_major": 2,
       "version_minor": 0
      },
      "text/plain": [
       "Creating parquet from Arrow format:   0%|          | 0/23912 [00:00<?, ?ba/s]"
      ]
     },
     "metadata": {},
     "output_type": "display_data"
    },
    {
     "data": {
      "application/vnd.jupyter.widget-view+json": {
       "model_id": "3ab618f308ea4fb48c13a8bce6e88479",
       "version_major": 2,
       "version_minor": 0
      },
      "text/plain": [
       "Creating parquet from Arrow format:   0%|          | 0/1029 [00:00<?, ?ba/s]"
      ]
     },
     "metadata": {},
     "output_type": "display_data"
    },
    {
     "data": {
      "text/plain": [
       "2448035609"
      ]
     },
     "execution_count": 19,
     "metadata": {},
     "output_type": "execute_result"
    }
   ],
   "source": [
    "reviews = load_from_disk(\"D:/BigData/raw_review_Beauty_and_Personal_Care\")[\"full\"]\n",
    "reviews.to_parquet(\"D:/BigData/review_parquet_Beauty_and_Personal_Care\")\n",
    "\n",
    "meta = load_from_disk(\"D:/BigData/raw_meta_Beauty_and_Personal_Care\")[\"full\"]\n",
    "meta.to_parquet(\"D:/BigData/meta_parquet_Beauty_and_Personal_Care\")"
   ]
  },
  {
   "cell_type": "markdown",
   "id": "a8b152a7",
   "metadata": {},
   "source": [
    "### Books"
   ]
  },
  {
   "cell_type": "code",
   "execution_count": 22,
   "id": "35e82930",
   "metadata": {},
   "outputs": [
    {
     "data": {
      "application/vnd.jupyter.widget-view+json": {
       "model_id": "86be22bf1cb840b1818611bb36e0fee2",
       "version_major": 2,
       "version_minor": 0
      },
      "text/plain": [
       "Loading dataset from disk:   0%|          | 0/33 [00:00<?, ?it/s]"
      ]
     },
     "metadata": {},
     "output_type": "display_data"
    },
    {
     "data": {
      "application/vnd.jupyter.widget-view+json": {
       "model_id": "c1d20e3969ac4df2a1cb59c9aa9715d8",
       "version_major": 2,
       "version_minor": 0
      },
      "text/plain": [
       "Creating parquet from Arrow format:   0%|          | 0/29476 [00:00<?, ?ba/s]"
      ]
     },
     "metadata": {},
     "output_type": "display_data"
    },
    {
     "data": {
      "application/vnd.jupyter.widget-view+json": {
       "model_id": "5ba444418b8b457185154fcb94036f44",
       "version_major": 2,
       "version_minor": 0
      },
      "text/plain": [
       "Loading dataset from disk:   0%|          | 0/28 [00:00<?, ?it/s]"
      ]
     },
     "metadata": {},
     "output_type": "display_data"
    },
    {
     "data": {
      "application/vnd.jupyter.widget-view+json": {
       "model_id": "e36a4cd2280142679d6ed3bb66c1a9af",
       "version_major": 2,
       "version_minor": 0
      },
      "text/plain": [
       "Creating parquet from Arrow format:   0%|          | 0/4449 [00:00<?, ?ba/s]"
      ]
     },
     "metadata": {},
     "output_type": "display_data"
    },
    {
     "data": {
      "text/plain": [
       "13734276777"
      ]
     },
     "execution_count": 22,
     "metadata": {},
     "output_type": "execute_result"
    }
   ],
   "source": [
    "reviews = load_from_disk(\"D:/BigData/raw_review_Books\")[\"full\"]\n",
    "reviews.to_parquet(\"D:/BigData/review_parquet_Books\")\n",
    "\n",
    "meta = load_from_disk(\"D:/BigData/raw_meta_Books\")[\"full\"]\n",
    "meta.to_parquet(\"D:/BigData/meta_parquet_Books\")"
   ]
  },
  {
   "cell_type": "markdown",
   "id": "9abc3f11",
   "metadata": {},
   "source": [
    "### CDs and Vinyl"
   ]
  },
  {
   "cell_type": "code",
   "execution_count": 24,
   "id": "b882ae4e",
   "metadata": {},
   "outputs": [
    {
     "data": {
      "application/vnd.jupyter.widget-view+json": {
       "model_id": "ff96c15e56334e8b89ea8813872a9a87",
       "version_major": 2,
       "version_minor": 0
      },
      "text/plain": [
       "Creating parquet from Arrow format:   0%|          | 0/4828 [00:00<?, ?ba/s]"
      ]
     },
     "metadata": {},
     "output_type": "display_data"
    },
    {
     "data": {
      "application/vnd.jupyter.widget-view+json": {
       "model_id": "251a5234620440caa866f544bb32c0ee",
       "version_major": 2,
       "version_minor": 0
      },
      "text/plain": [
       "Creating parquet from Arrow format:   0%|          | 0/702 [00:00<?, ?ba/s]"
      ]
     },
     "metadata": {},
     "output_type": "display_data"
    },
    {
     "data": {
      "text/plain": [
       "804107486"
      ]
     },
     "execution_count": 24,
     "metadata": {},
     "output_type": "execute_result"
    }
   ],
   "source": [
    "reviews = load_from_disk(\"D:/BigData/raw_review_CDs_and_Vinyl\")[\"full\"]\n",
    "reviews.to_parquet(\"D:/BigData/review_parquet_CDs_and_Vinyl\")\n",
    "\n",
    "meta = load_from_disk(\"D:/BigData/raw_meta_CDs_and_Vinyl\")[\"full\"]\n",
    "meta.to_parquet(\"D:/BigData/meta_parquet_CDs_and_Vinyl\")"
   ]
  },
  {
   "cell_type": "markdown",
   "id": "03626bf2",
   "metadata": {},
   "source": [
    "### Cell Phones and Accessories"
   ]
  },
  {
   "cell_type": "code",
   "execution_count": 26,
   "id": "486cabf9",
   "metadata": {},
   "outputs": [
    {
     "data": {
      "application/vnd.jupyter.widget-view+json": {
       "model_id": "a11c313055a44a71a9f77bbc28b5c2de",
       "version_major": 2,
       "version_minor": 0
      },
      "text/plain": [
       "Creating parquet from Arrow format:   0%|          | 0/20813 [00:00<?, ?ba/s]"
      ]
     },
     "metadata": {},
     "output_type": "display_data"
    },
    {
     "data": {
      "application/vnd.jupyter.widget-view+json": {
       "model_id": "48feefc4d8b34a609bf07e6184162d3d",
       "version_major": 2,
       "version_minor": 0
      },
      "text/plain": [
       "Creating parquet from Arrow format:   0%|          | 0/1289 [00:00<?, ?ba/s]"
      ]
     },
     "metadata": {},
     "output_type": "display_data"
    },
    {
     "data": {
      "text/plain": [
       "3497601110"
      ]
     },
     "execution_count": 26,
     "metadata": {},
     "output_type": "execute_result"
    }
   ],
   "source": [
    "reviews = load_from_disk(\"D:/BigData/raw_review_Cell_Phones_and_Accessories\")[\"full\"]\n",
    "reviews.to_parquet(\"D:/BigData/review_parquet_Cell_Phones_and_Accessories\")\n",
    "\n",
    "meta = load_from_disk(\"D:/BigData/raw_meta_Cell_Phones_and_Accessories\")[\"full\"]\n",
    "meta.to_parquet(\"D:/BigData/meta_parquet_Cell_Phones_and_Accessories\")"
   ]
  },
  {
   "cell_type": "markdown",
   "id": "a19ec7cc",
   "metadata": {},
   "source": [
    "### Clothing Shoes and Jewelry"
   ]
  },
  {
   "cell_type": "code",
   "execution_count": 28,
   "id": "0ffe7ee3",
   "metadata": {},
   "outputs": [
    {
     "data": {
      "application/vnd.jupyter.widget-view+json": {
       "model_id": "4f4db081792a46038709ce076a4a2f79",
       "version_major": 2,
       "version_minor": 0
      },
      "text/plain": [
       "Loading dataset from disk:   0%|          | 0/38 [00:00<?, ?it/s]"
      ]
     },
     "metadata": {},
     "output_type": "display_data"
    },
    {
     "data": {
      "application/vnd.jupyter.widget-view+json": {
       "model_id": "86bf10a719904b10bed662667d362062",
       "version_major": 2,
       "version_minor": 0
      },
      "text/plain": [
       "Creating parquet from Arrow format:   0%|          | 0/66034 [00:00<?, ?ba/s]"
      ]
     },
     "metadata": {},
     "output_type": "display_data"
    },
    {
     "data": {
      "application/vnd.jupyter.widget-view+json": {
       "model_id": "d2cccbef68544964ad53926896274bfa",
       "version_major": 2,
       "version_minor": 0
      },
      "text/plain": [
       "Loading dataset from disk:   0%|          | 0/31 [00:00<?, ?it/s]"
      ]
     },
     "metadata": {},
     "output_type": "display_data"
    },
    {
     "data": {
      "application/vnd.jupyter.widget-view+json": {
       "model_id": "31210fa7a9884723bcaccc4d718c89be",
       "version_major": 2,
       "version_minor": 0
      },
      "text/plain": [
       "Creating parquet from Arrow format:   0%|          | 0/7219 [00:00<?, ?ba/s]"
      ]
     },
     "metadata": {},
     "output_type": "display_data"
    },
    {
     "data": {
      "text/plain": [
       "15430352328"
      ]
     },
     "execution_count": 28,
     "metadata": {},
     "output_type": "execute_result"
    }
   ],
   "source": [
    "reviews = load_from_disk(\"D:/BigData/raw_review_Clothing_Shoes_and_Jewelry\")[\"full\"]\n",
    "reviews.to_parquet(\"D:/BigData/review_parquet_Clothing_Shoes_and_Jewelry\")\n",
    "\n",
    "meta = load_from_disk(\"D:/BigData/raw_meta_Clothing_Shoes_and_Jewelry\")[\"full\"]\n",
    "meta.to_parquet(\"D:/BigData/meta_parquet_Clothing_Shoes_and_Jewelry\")"
   ]
  },
  {
   "cell_type": "markdown",
   "id": "fca72ce1",
   "metadata": {},
   "source": [
    "### Digital Music"
   ]
  },
  {
   "cell_type": "code",
   "execution_count": 30,
   "id": "5b961f66",
   "metadata": {},
   "outputs": [
    {
     "data": {
      "application/vnd.jupyter.widget-view+json": {
       "model_id": "274d5adada914105aa27411e416ec16a",
       "version_major": 2,
       "version_minor": 0
      },
      "text/plain": [
       "Creating parquet from Arrow format:   0%|          | 0/131 [00:00<?, ?ba/s]"
      ]
     },
     "metadata": {},
     "output_type": "display_data"
    },
    {
     "data": {
      "application/vnd.jupyter.widget-view+json": {
       "model_id": "5b477073ce7b4d62b112565169b814da",
       "version_major": 2,
       "version_minor": 0
      },
      "text/plain": [
       "Creating parquet from Arrow format:   0%|          | 0/71 [00:00<?, ?ba/s]"
      ]
     },
     "metadata": {},
     "output_type": "display_data"
    },
    {
     "data": {
      "text/plain": [
       "52063488"
      ]
     },
     "execution_count": 30,
     "metadata": {},
     "output_type": "execute_result"
    }
   ],
   "source": [
    "reviews = load_from_disk(\"D:/BigData/raw_review_Digital_Music\")[\"full\"]\n",
    "reviews.to_parquet(\"D:/BigData/review_parquet_Digital_Music\")\n",
    "\n",
    "meta = load_from_disk(\"D:/BigData/raw_meta_Digital_Music\")[\"full\"]\n",
    "meta.to_parquet(\"D:/BigData/meta_parquet_Digital_Music\")"
   ]
  },
  {
   "cell_type": "markdown",
   "id": "b905c4e2",
   "metadata": {},
   "source": [
    "### Electronics"
   ]
  },
  {
   "cell_type": "code",
   "execution_count": 32,
   "id": "68233c63",
   "metadata": {},
   "outputs": [
    {
     "data": {
      "application/vnd.jupyter.widget-view+json": {
       "model_id": "1d7a2c666e7241bc969448d19a3a4e21",
       "version_major": 2,
       "version_minor": 0
      },
      "text/plain": [
       "Loading dataset from disk:   0%|          | 0/34 [00:00<?, ?it/s]"
      ]
     },
     "metadata": {},
     "output_type": "display_data"
    },
    {
     "data": {
      "application/vnd.jupyter.widget-view+json": {
       "model_id": "6a85a2f8e4fa42a3a2000b8c8265d303",
       "version_major": 2,
       "version_minor": 0
      },
      "text/plain": [
       "Creating parquet from Arrow format:   0%|          | 0/43887 [00:00<?, ?ba/s]"
      ]
     },
     "metadata": {},
     "output_type": "display_data"
    },
    {
     "data": {
      "application/vnd.jupyter.widget-view+json": {
       "model_id": "428245c08ab446448922908715c57bf4",
       "version_major": 2,
       "version_minor": 0
      },
      "text/plain": [
       "Creating parquet from Arrow format:   0%|          | 0/1611 [00:00<?, ?ba/s]"
      ]
     },
     "metadata": {},
     "output_type": "display_data"
    },
    {
     "data": {
      "text/plain": [
       "4603611085"
      ]
     },
     "execution_count": 32,
     "metadata": {},
     "output_type": "execute_result"
    }
   ],
   "source": [
    "reviews = load_from_disk(\"D:/BigData/raw_review_Electronics\")[\"full\"]\n",
    "reviews.to_parquet(\"D:/BigData/review_parquet_Electronics\")\n",
    "\n",
    "meta = load_from_disk(\"D:/BigData/raw_meta_Electronics\")[\"full\"]\n",
    "meta.to_parquet(\"D:/BigData/meta_parquet_Electronics\")"
   ]
  },
  {
   "cell_type": "markdown",
   "id": "6d41ee0e",
   "metadata": {},
   "source": [
    "### Gift Cards"
   ]
  },
  {
   "cell_type": "code",
   "execution_count": 34,
   "id": "95909894",
   "metadata": {},
   "outputs": [
    {
     "data": {
      "application/vnd.jupyter.widget-view+json": {
       "model_id": "02818778a06d420aa8b7e6549d69c417",
       "version_major": 2,
       "version_minor": 0
      },
      "text/plain": [
       "Creating parquet from Arrow format:   0%|          | 0/153 [00:00<?, ?ba/s]"
      ]
     },
     "metadata": {},
     "output_type": "display_data"
    },
    {
     "data": {
      "application/vnd.jupyter.widget-view+json": {
       "model_id": "44f909be79db4633bed1b0cf9a7d519c",
       "version_major": 2,
       "version_minor": 0
      },
      "text/plain": [
       "Creating parquet from Arrow format:   0%|          | 0/2 [00:00<?, ?ba/s]"
      ]
     },
     "metadata": {},
     "output_type": "display_data"
    },
    {
     "data": {
      "text/plain": [
       "1740761"
      ]
     },
     "execution_count": 34,
     "metadata": {},
     "output_type": "execute_result"
    }
   ],
   "source": [
    "reviews = load_from_disk(\"D:/BigData/raw_review_Gift_Cards\")[\"full\"]\n",
    "reviews.to_parquet(\"D:/BigData/review_parquet_Gift_Cards\")\n",
    "\n",
    "meta = load_from_disk(\"D:/BigData/raw_meta_Gift_Cards\")[\"full\"]\n",
    "meta.to_parquet(\"D:/BigData/meta_parquet_Gift_Cards\")"
   ]
  },
  {
   "cell_type": "markdown",
   "id": "a7f76269",
   "metadata": {},
   "source": [
    "### Grocery and Gourmet Food"
   ]
  },
  {
   "cell_type": "code",
   "execution_count": 36,
   "id": "cb49a4bd",
   "metadata": {},
   "outputs": [
    {
     "data": {
      "application/vnd.jupyter.widget-view+json": {
       "model_id": "519031a7b2284e18b4586ccd71d7f292",
       "version_major": 2,
       "version_minor": 0
      },
      "text/plain": [
       "Creating parquet from Arrow format:   0%|          | 0/14319 [00:00<?, ?ba/s]"
      ]
     },
     "metadata": {},
     "output_type": "display_data"
    },
    {
     "data": {
      "application/vnd.jupyter.widget-view+json": {
       "model_id": "7ef1967941784826b877179f609143ff",
       "version_major": 2,
       "version_minor": 0
      },
      "text/plain": [
       "Creating parquet from Arrow format:   0%|          | 0/604 [00:00<?, ?ba/s]"
      ]
     },
     "metadata": {},
     "output_type": "display_data"
    },
    {
     "data": {
      "text/plain": [
       "1178355442"
      ]
     },
     "execution_count": 36,
     "metadata": {},
     "output_type": "execute_result"
    }
   ],
   "source": [
    "reviews = load_from_disk(\"D:/BigData/raw_review_Grocery_and_Gourmet_Food\")[\"full\"]\n",
    "reviews.to_parquet(\"D:/BigData/review_parquet_Grocery_and_Gourmet_Food\")\n",
    "\n",
    "meta = load_from_disk(\"D:/BigData/raw_meta_Grocery_and_Gourmet_Food\")[\"full\"]\n",
    "meta.to_parquet(\"D:/BigData/meta_parquet_Grocery_and_Gourmet_Food\")"
   ]
  },
  {
   "cell_type": "markdown",
   "id": "5519e928",
   "metadata": {},
   "source": [
    "### Handmade Products"
   ]
  },
  {
   "cell_type": "code",
   "execution_count": 38,
   "id": "aa76e12c",
   "metadata": {},
   "outputs": [
    {
     "data": {
      "application/vnd.jupyter.widget-view+json": {
       "model_id": "1bc90a4b91a44ab2b930d4349194bfb5",
       "version_major": 2,
       "version_minor": 0
      },
      "text/plain": [
       "Creating parquet from Arrow format:   0%|          | 0/665 [00:00<?, ?ba/s]"
      ]
     },
     "metadata": {},
     "output_type": "display_data"
    },
    {
     "data": {
      "application/vnd.jupyter.widget-view+json": {
       "model_id": "bef69f55b8a44cbbac46bace0fa679d7",
       "version_major": 2,
       "version_minor": 0
      },
      "text/plain": [
       "Creating parquet from Arrow format:   0%|          | 0/165 [00:00<?, ?ba/s]"
      ]
     },
     "metadata": {},
     "output_type": "display_data"
    },
    {
     "data": {
      "text/plain": [
       "340772183"
      ]
     },
     "execution_count": 38,
     "metadata": {},
     "output_type": "execute_result"
    }
   ],
   "source": [
    "reviews = load_from_disk(\"D:/BigData/raw_review_Handmade_Products\")[\"full\"]\n",
    "reviews.to_parquet(\"D:/BigData/review_parquet_Handmade_Products\")\n",
    "\n",
    "meta = load_from_disk(\"D:/BigData/raw_meta_Handmade_Products\")[\"full\"]\n",
    "meta.to_parquet(\"D:/BigData/meta_parquet_Handmade_Products\")"
   ]
  },
  {
   "cell_type": "markdown",
   "id": "17a3e040",
   "metadata": {},
   "source": [
    "### Health and Household"
   ]
  },
  {
   "cell_type": "code",
   "execution_count": 40,
   "id": "a0b82da3",
   "metadata": {},
   "outputs": [
    {
     "data": {
      "application/vnd.jupyter.widget-view+json": {
       "model_id": "de7c4d4f58a647fe8e91436f6ac4f89d",
       "version_major": 2,
       "version_minor": 0
      },
      "text/plain": [
       "Creating parquet from Arrow format:   0%|          | 0/25632 [00:00<?, ?ba/s]"
      ]
     },
     "metadata": {},
     "output_type": "display_data"
    },
    {
     "data": {
      "application/vnd.jupyter.widget-view+json": {
       "model_id": "ab7c1d6178194f6b946ea76268c703d2",
       "version_major": 2,
       "version_minor": 0
      },
      "text/plain": [
       "Creating parquet from Arrow format:   0%|          | 0/798 [00:00<?, ?ba/s]"
      ]
     },
     "metadata": {},
     "output_type": "display_data"
    },
    {
     "data": {
      "text/plain": [
       "2152348034"
      ]
     },
     "execution_count": 40,
     "metadata": {},
     "output_type": "execute_result"
    }
   ],
   "source": [
    "reviews = load_from_disk(\"D:/BigData/raw_review_Health_and_Household\")[\"full\"]\n",
    "reviews.to_parquet(\"D:/BigData/review_parquet_Health_and_Household\")\n",
    "\n",
    "meta = load_from_disk(\"D:/BigData/raw_meta_Health_and_Household\")[\"full\"]\n",
    "meta.to_parquet(\"D:/BigData/meta_parquet_Health_and_Household\")"
   ]
  },
  {
   "cell_type": "markdown",
   "id": "d40b332f",
   "metadata": {},
   "source": [
    "### Health and Personal Care"
   ]
  },
  {
   "cell_type": "code",
   "execution_count": 42,
   "id": "957eba51",
   "metadata": {},
   "outputs": [
    {
     "data": {
      "application/vnd.jupyter.widget-view+json": {
       "model_id": "51420f5afdbc42179779283386d45570",
       "version_major": 2,
       "version_minor": 0
      },
      "text/plain": [
       "Creating parquet from Arrow format:   0%|          | 0/495 [00:00<?, ?ba/s]"
      ]
     },
     "metadata": {},
     "output_type": "display_data"
    },
    {
     "data": {
      "application/vnd.jupyter.widget-view+json": {
       "model_id": "86507076bafa4e97a49d31dde9a6f9f9",
       "version_major": 2,
       "version_minor": 0
      },
      "text/plain": [
       "Creating parquet from Arrow format:   0%|          | 0/61 [00:00<?, ?ba/s]"
      ]
     },
     "metadata": {},
     "output_type": "display_data"
    },
    {
     "data": {
      "text/plain": [
       "97345359"
      ]
     },
     "execution_count": 42,
     "metadata": {},
     "output_type": "execute_result"
    }
   ],
   "source": [
    "reviews = load_from_disk(\"D:/BigData/raw_review_Health_and_Personal_Care\")[\"full\"]\n",
    "reviews.to_parquet(\"D:/BigData/review_parquet_Health_and_Personal_Care\")\n",
    "\n",
    "meta = load_from_disk(\"D:/BigData/raw_meta_Health_and_Personal_Care\")[\"full\"]\n",
    "meta.to_parquet(\"D:/BigData/meta_parquet_Health_and_Personal_Care\")"
   ]
  },
  {
   "cell_type": "markdown",
   "id": "650be576",
   "metadata": {},
   "source": [
    "### Home and Kitchen"
   ]
  },
  {
   "cell_type": "code",
   "execution_count": 44,
   "id": "58747a27",
   "metadata": {},
   "outputs": [
    {
     "data": {
      "application/vnd.jupyter.widget-view+json": {
       "model_id": "3903e889900b4c138252dd3281001b9c",
       "version_major": 2,
       "version_minor": 0
      },
      "text/plain": [
       "Loading dataset from disk:   0%|          | 0/45 [00:00<?, ?it/s]"
      ]
     },
     "metadata": {},
     "output_type": "display_data"
    },
    {
     "data": {
      "application/vnd.jupyter.widget-view+json": {
       "model_id": "3e8920742a1d4f2aa9469c9928d3a115",
       "version_major": 2,
       "version_minor": 0
      },
      "text/plain": [
       "Creating parquet from Arrow format:   0%|          | 0/67410 [00:00<?, ?ba/s]"
      ]
     },
     "metadata": {},
     "output_type": "display_data"
    },
    {
     "data": {
      "application/vnd.jupyter.widget-view+json": {
       "model_id": "4d2893fff98d406fb2beebe149e18c98",
       "version_major": 2,
       "version_minor": 0
      },
      "text/plain": [
       "Loading dataset from disk:   0%|          | 0/21 [00:00<?, ?it/s]"
      ]
     },
     "metadata": {},
     "output_type": "display_data"
    },
    {
     "data": {
      "application/vnd.jupyter.widget-view+json": {
       "model_id": "cdd346594612408394032a9580bc71e8",
       "version_major": 2,
       "version_minor": 0
      },
      "text/plain": [
       "Creating parquet from Arrow format:   0%|          | 0/3736 [00:00<?, ?ba/s]"
      ]
     },
     "metadata": {},
     "output_type": "display_data"
    },
    {
     "data": {
      "text/plain": [
       "10319696112"
      ]
     },
     "execution_count": 44,
     "metadata": {},
     "output_type": "execute_result"
    }
   ],
   "source": [
    "reviews = load_from_disk(\"D:/BigData/raw_review_Home_and_Kitchen\")[\"full\"]\n",
    "reviews.to_parquet(\"D:/BigData/review_parquet_Home_and_Kitchen\")\n",
    "\n",
    "meta = load_from_disk(\"D:/BigData/raw_meta_Home_and_Kitchen\")[\"full\"]\n",
    "meta.to_parquet(\"D:/BigData/meta_parquet_Home_and_Kitchen\")"
   ]
  },
  {
   "cell_type": "markdown",
   "id": "a77fff86",
   "metadata": {},
   "source": [
    "### Industrial and Scientific"
   ]
  },
  {
   "cell_type": "code",
   "execution_count": 46,
   "id": "9d790a97",
   "metadata": {},
   "outputs": [
    {
     "data": {
      "application/vnd.jupyter.widget-view+json": {
       "model_id": "41fdf185eea04e28aae35d7495c6b78f",
       "version_major": 2,
       "version_minor": 0
      },
      "text/plain": [
       "Creating parquet from Arrow format:   0%|          | 0/5184 [00:00<?, ?ba/s]"
      ]
     },
     "metadata": {},
     "output_type": "display_data"
    },
    {
     "data": {
      "application/vnd.jupyter.widget-view+json": {
       "model_id": "c6ab6400c0ca4d29949cb12cd4302b02",
       "version_major": 2,
       "version_minor": 0
      },
      "text/plain": [
       "Creating parquet from Arrow format:   0%|          | 0/428 [00:00<?, ?ba/s]"
      ]
     },
     "metadata": {},
     "output_type": "display_data"
    },
    {
     "data": {
      "text/plain": [
       "986634833"
      ]
     },
     "execution_count": 46,
     "metadata": {},
     "output_type": "execute_result"
    }
   ],
   "source": [
    "reviews = load_from_disk(\"D:/BigData/raw_review_Industrial_and_Scientific\")[\"full\"]\n",
    "reviews.to_parquet(\"D:/BigData/review_parquet_Industrial_and_Scientific\")\n",
    "\n",
    "meta = load_from_disk(\"D:/BigData/raw_meta_Industrial_and_Scientific\")[\"full\"]\n",
    "meta.to_parquet(\"D:/BigData/meta_parquet_Industrial_and_Scientific\")"
   ]
  },
  {
   "cell_type": "markdown",
   "id": "99432587",
   "metadata": {},
   "source": [
    "### Kindle Store"
   ]
  },
  {
   "cell_type": "code",
   "execution_count": 48,
   "id": "a27f5294",
   "metadata": {},
   "outputs": [
    {
     "data": {
      "application/vnd.jupyter.widget-view+json": {
       "model_id": "f20a1627e0f8416a9bd37c324ee0b734",
       "version_major": 2,
       "version_minor": 0
      },
      "text/plain": [
       "Loading dataset from disk:   0%|          | 0/25 [00:00<?, ?it/s]"
      ]
     },
     "metadata": {},
     "output_type": "display_data"
    },
    {
     "data": {
      "application/vnd.jupyter.widget-view+json": {
       "model_id": "de6dc60b8e584885b2a408e68c686f45",
       "version_major": 2,
       "version_minor": 0
      },
      "text/plain": [
       "Creating parquet from Arrow format:   0%|          | 0/25578 [00:00<?, ?ba/s]"
      ]
     },
     "metadata": {},
     "output_type": "display_data"
    },
    {
     "data": {
      "application/vnd.jupyter.widget-view+json": {
       "model_id": "88f29d07fd9249dea0c076cff42c110c",
       "version_major": 2,
       "version_minor": 0
      },
      "text/plain": [
       "Creating parquet from Arrow format:   0%|          | 0/1592 [00:00<?, ?ba/s]"
      ]
     },
     "metadata": {},
     "output_type": "display_data"
    },
    {
     "data": {
      "text/plain": [
       "6494217841"
      ]
     },
     "execution_count": 48,
     "metadata": {},
     "output_type": "execute_result"
    }
   ],
   "source": [
    "reviews = load_from_disk(\"D:/BigData/raw_review_Kindle_Store\")[\"full\"]\n",
    "reviews.to_parquet(\"D:/BigData/review_parquet_Kindle_Store\")\n",
    "\n",
    "meta = load_from_disk(\"D:/BigData/raw_meta_Kindle_Store\")[\"full\"]\n",
    "meta.to_parquet(\"D:/BigData/meta_parquet_Kindle_Store\")"
   ]
  },
  {
   "cell_type": "markdown",
   "id": "fafd3436",
   "metadata": {},
   "source": [
    "### Magazine Subscriptions"
   ]
  },
  {
   "cell_type": "code",
   "execution_count": 50,
   "id": "cd0fdefa",
   "metadata": {},
   "outputs": [
    {
     "data": {
      "application/vnd.jupyter.widget-view+json": {
       "model_id": "5f7fb19cb6894fadaabf35b801bfcc53",
       "version_major": 2,
       "version_minor": 0
      },
      "text/plain": [
       "Creating parquet from Arrow format:   0%|          | 0/72 [00:00<?, ?ba/s]"
      ]
     },
     "metadata": {},
     "output_type": "display_data"
    },
    {
     "data": {
      "application/vnd.jupyter.widget-view+json": {
       "model_id": "41c45681747349fc8854c011333da132",
       "version_major": 2,
       "version_minor": 0
      },
      "text/plain": [
       "Creating parquet from Arrow format:   0%|          | 0/4 [00:00<?, ?ba/s]"
      ]
     },
     "metadata": {},
     "output_type": "display_data"
    },
    {
     "data": {
      "text/plain": [
       "3247117"
      ]
     },
     "execution_count": 50,
     "metadata": {},
     "output_type": "execute_result"
    }
   ],
   "source": [
    "reviews = load_from_disk(\"D:/BigData/raw_review_Magazine_Subscriptions\")[\"full\"]\n",
    "reviews.to_parquet(\"D:/BigData/review_parquet_Magazine_Subscriptions\")\n",
    "\n",
    "meta = load_from_disk(\"D:/BigData/raw_meta_Magazine_Subscriptions\")[\"full\"]\n",
    "meta.to_parquet(\"D:/BigData/meta_parquet_Magazine_Subscriptions\")"
   ]
  },
  {
   "cell_type": "markdown",
   "id": "d126d3fc",
   "metadata": {},
   "source": [
    "### Movies and TV"
   ]
  },
  {
   "cell_type": "code",
   "execution_count": 52,
   "id": "cc23456b",
   "metadata": {},
   "outputs": [
    {
     "data": {
      "application/vnd.jupyter.widget-view+json": {
       "model_id": "b65e60091cf645fe8defa30111417660",
       "version_major": 2,
       "version_minor": 0
      },
      "text/plain": [
       "Creating parquet from Arrow format:   0%|          | 0/17329 [00:00<?, ?ba/s]"
      ]
     },
     "metadata": {},
     "output_type": "display_data"
    },
    {
     "data": {
      "application/vnd.jupyter.widget-view+json": {
       "model_id": "f360a375294d470494cfb3b253f87821",
       "version_major": 2,
       "version_minor": 0
      },
      "text/plain": [
       "Creating parquet from Arrow format:   0%|          | 0/749 [00:00<?, ?ba/s]"
      ]
     },
     "metadata": {},
     "output_type": "display_data"
    },
    {
     "data": {
      "text/plain": [
       "834700736"
      ]
     },
     "execution_count": 52,
     "metadata": {},
     "output_type": "execute_result"
    }
   ],
   "source": [
    "reviews = load_from_disk(\"D:/BigData/raw_review_Movies_and_TV\")[\"full\"]\n",
    "reviews.to_parquet(\"D:/BigData/review_parquet_Movies_and_TV\")\n",
    "\n",
    "meta = load_from_disk(\"D:/BigData/raw_meta_Movies_and_TV\")[\"full\"]\n",
    "meta.to_parquet(\"D:/BigData/meta_parquet_Movies_and_TV\")"
   ]
  },
  {
   "cell_type": "markdown",
   "id": "7a7b1102",
   "metadata": {},
   "source": [
    "### Musical Instruments"
   ]
  },
  {
   "cell_type": "code",
   "execution_count": 54,
   "id": "d2e51d3c",
   "metadata": {},
   "outputs": [
    {
     "data": {
      "application/vnd.jupyter.widget-view+json": {
       "model_id": "00c8b2c76b2f40fcadcb026f50ac5679",
       "version_major": 2,
       "version_minor": 0
      },
      "text/plain": [
       "Creating parquet from Arrow format:   0%|          | 0/3018 [00:00<?, ?ba/s]"
      ]
     },
     "metadata": {},
     "output_type": "display_data"
    },
    {
     "data": {
      "application/vnd.jupyter.widget-view+json": {
       "model_id": "d41383697e0b4bf5962d9594698cabef",
       "version_major": 2,
       "version_minor": 0
      },
      "text/plain": [
       "Creating parquet from Arrow format:   0%|          | 0/214 [00:00<?, ?ba/s]"
      ]
     },
     "metadata": {},
     "output_type": "display_data"
    },
    {
     "data": {
      "text/plain": [
       "553296902"
      ]
     },
     "execution_count": 54,
     "metadata": {},
     "output_type": "execute_result"
    }
   ],
   "source": [
    "reviews = load_from_disk(\"D:/BigData/raw_review_Musical_Instruments\")[\"full\"]\n",
    "reviews.to_parquet(\"D:/BigData/review_parquet_Musical_Instruments\")\n",
    "\n",
    "meta = load_from_disk(\"D:/BigData/raw_meta_Musical_Instruments\")[\"full\"]\n",
    "meta.to_parquet(\"D:/BigData/meta_parquet_Musical_Instruments\")"
   ]
  },
  {
   "cell_type": "markdown",
   "id": "855b39e3",
   "metadata": {},
   "source": [
    "### Office Products"
   ]
  },
  {
   "cell_type": "code",
   "execution_count": 56,
   "id": "fdceb078",
   "metadata": {},
   "outputs": [
    {
     "data": {
      "application/vnd.jupyter.widget-view+json": {
       "model_id": "9ce9a004a32e4783916c22b6784f3d02",
       "version_major": 2,
       "version_minor": 0
      },
      "text/plain": [
       "Creating parquet from Arrow format:   0%|          | 0/12846 [00:00<?, ?ba/s]"
      ]
     },
     "metadata": {},
     "output_type": "display_data"
    },
    {
     "data": {
      "application/vnd.jupyter.widget-view+json": {
       "model_id": "3c83bc9ba12645b3984b02842bd1229a",
       "version_major": 2,
       "version_minor": 0
      },
      "text/plain": [
       "Creating parquet from Arrow format:   0%|          | 0/711 [00:00<?, ?ba/s]"
      ]
     },
     "metadata": {},
     "output_type": "display_data"
    },
    {
     "data": {
      "text/plain": [
       "1878241877"
      ]
     },
     "execution_count": 56,
     "metadata": {},
     "output_type": "execute_result"
    }
   ],
   "source": [
    "reviews = load_from_disk(\"D:/BigData/raw_review_Office_Products\")[\"full\"]\n",
    "reviews.to_parquet(\"D:/BigData/review_parquet_Office_Products\")\n",
    "\n",
    "meta = load_from_disk(\"D:/BigData/raw_meta_Office_Products\")[\"full\"]\n",
    "meta.to_parquet(\"D:/BigData/meta_parquet_Office_Products\")"
   ]
  },
  {
   "cell_type": "markdown",
   "id": "71b03ceb",
   "metadata": {},
   "source": [
    "### Patio Lawn and Garden"
   ]
  },
  {
   "cell_type": "code",
   "execution_count": 58,
   "id": "9c97e04b",
   "metadata": {},
   "outputs": [
    {
     "data": {
      "application/vnd.jupyter.widget-view+json": {
       "model_id": "af41a77582a9444ca7321eb762ec0c6e",
       "version_major": 2,
       "version_minor": 0
      },
      "text/plain": [
       "Creating parquet from Arrow format:   0%|          | 0/16491 [00:00<?, ?ba/s]"
      ]
     },
     "metadata": {},
     "output_type": "display_data"
    },
    {
     "data": {
      "application/vnd.jupyter.widget-view+json": {
       "model_id": "f16e4f793781481194c67f1d6a5ae211",
       "version_major": 2,
       "version_minor": 0
      },
      "text/plain": [
       "Creating parquet from Arrow format:   0%|          | 0/852 [00:00<?, ?ba/s]"
      ]
     },
     "metadata": {},
     "output_type": "display_data"
    },
    {
     "data": {
      "text/plain": [
       "2373221087"
      ]
     },
     "execution_count": 58,
     "metadata": {},
     "output_type": "execute_result"
    }
   ],
   "source": [
    "reviews = load_from_disk(\"D:/BigData/raw_review_Patio_Lawn_and_Garden\")[\"full\"]\n",
    "reviews.to_parquet(\"D:/BigData/review_parquet_Patio_Lawn_and_Garden\")\n",
    "\n",
    "meta = load_from_disk(\"D:/BigData/raw_meta_Patio_Lawn_and_Garden\")[\"full\"]\n",
    "meta.to_parquet(\"D:/BigData/meta_parquet_Patio_Lawn_and_Garden\")"
   ]
  },
  {
   "cell_type": "markdown",
   "id": "778df801",
   "metadata": {},
   "source": [
    "### Pet Supplies"
   ]
  },
  {
   "cell_type": "code",
   "execution_count": 60,
   "id": "a5f1a0c7",
   "metadata": {},
   "outputs": [
    {
     "data": {
      "application/vnd.jupyter.widget-view+json": {
       "model_id": "783f25030d6d467e80251794a98d245c",
       "version_major": 2,
       "version_minor": 0
      },
      "text/plain": [
       "Creating parquet from Arrow format:   0%|          | 0/16828 [00:00<?, ?ba/s]"
      ]
     },
     "metadata": {},
     "output_type": "display_data"
    },
    {
     "data": {
      "application/vnd.jupyter.widget-view+json": {
       "model_id": "f7395363c5a84a26992f0c5b8469e9c8",
       "version_major": 2,
       "version_minor": 0
      },
      "text/plain": [
       "Creating parquet from Arrow format:   0%|          | 0/493 [00:00<?, ?ba/s]"
      ]
     },
     "metadata": {},
     "output_type": "display_data"
    },
    {
     "data": {
      "text/plain": [
       "1362181702"
      ]
     },
     "execution_count": 60,
     "metadata": {},
     "output_type": "execute_result"
    }
   ],
   "source": [
    "reviews = load_from_disk(\"D:/BigData/raw_review_Pet_Supplies\")[\"full\"]\n",
    "reviews.to_parquet(\"D:/BigData/review_parquet_Pet_Supplies\")\n",
    "\n",
    "meta = load_from_disk(\"D:/BigData/raw_meta_Pet_Supplies\")[\"full\"]\n",
    "meta.to_parquet(\"D:/BigData/meta_parquet_Pet_Supplies\")"
   ]
  },
  {
   "cell_type": "markdown",
   "id": "bbe78bf5",
   "metadata": {},
   "source": [
    "### Software"
   ]
  },
  {
   "cell_type": "code",
   "execution_count": 62,
   "id": "8a7c0ad5",
   "metadata": {},
   "outputs": [
    {
     "data": {
      "application/vnd.jupyter.widget-view+json": {
       "model_id": "ac83277f46cf4d9f8de5995f483bcf6d",
       "version_major": 2,
       "version_minor": 0
      },
      "text/plain": [
       "Creating parquet from Arrow format:   0%|          | 0/4881 [00:00<?, ?ba/s]"
      ]
     },
     "metadata": {},
     "output_type": "display_data"
    },
    {
     "data": {
      "application/vnd.jupyter.widget-view+json": {
       "model_id": "6e0cf64bbac04c8a9113039bd115f419",
       "version_major": 2,
       "version_minor": 0
      },
      "text/plain": [
       "Creating parquet from Arrow format:   0%|          | 0/90 [00:00<?, ?ba/s]"
      ]
     },
     "metadata": {},
     "output_type": "display_data"
    },
    {
     "data": {
      "text/plain": [
       "232470037"
      ]
     },
     "execution_count": 62,
     "metadata": {},
     "output_type": "execute_result"
    }
   ],
   "source": [
    "reviews = load_from_disk(\"D:/BigData/raw_review_Software\")[\"full\"]\n",
    "reviews.to_parquet(\"D:/BigData/review_parquet_Software\")\n",
    "\n",
    "meta = load_from_disk(\"D:/BigData/raw_meta_Software\")[\"full\"]\n",
    "meta.to_parquet(\"D:/BigData/meta_parquet_Software\")"
   ]
  },
  {
   "cell_type": "markdown",
   "id": "d7af7b12",
   "metadata": {},
   "source": [
    "### Sports and Outdoors"
   ]
  },
  {
   "cell_type": "code",
   "execution_count": 64,
   "id": "2a70d7fd",
   "metadata": {},
   "outputs": [
    {
     "data": {
      "application/vnd.jupyter.widget-view+json": {
       "model_id": "22d4d4aeeed3473886a2fb7e165a437a",
       "version_major": 2,
       "version_minor": 0
      },
      "text/plain": [
       "Creating parquet from Arrow format:   0%|          | 0/19596 [00:00<?, ?ba/s]"
      ]
     },
     "metadata": {},
     "output_type": "display_data"
    },
    {
     "data": {
      "application/vnd.jupyter.widget-view+json": {
       "model_id": "797e3d07addc4add83f2edcd020dc879",
       "version_major": 2,
       "version_minor": 0
      },
      "text/plain": [
       "Creating parquet from Arrow format:   0%|          | 0/1588 [00:00<?, ?ba/s]"
      ]
     },
     "metadata": {},
     "output_type": "display_data"
    },
    {
     "data": {
      "text/plain": [
       "3618269396"
      ]
     },
     "execution_count": 64,
     "metadata": {},
     "output_type": "execute_result"
    }
   ],
   "source": [
    "reviews = load_from_disk(\"D:/BigData/raw_review_Sports_and_Outdoors\")[\"full\"]\n",
    "reviews.to_parquet(\"D:/BigData/review_parquet_Sports_and_Outdoors\")\n",
    "\n",
    "meta = load_from_disk(\"D:/BigData/raw_meta_Sports_and_Outdoors\")[\"full\"]\n",
    "meta.to_parquet(\"D:/BigData/meta_parquet_Sports_and_Outdoors\")"
   ]
  },
  {
   "cell_type": "markdown",
   "id": "5b9376d1",
   "metadata": {},
   "source": [
    "### Subscription Boxes"
   ]
  },
  {
   "cell_type": "code",
   "execution_count": 66,
   "id": "d2f24392",
   "metadata": {},
   "outputs": [
    {
     "data": {
      "application/vnd.jupyter.widget-view+json": {
       "model_id": "a0ca5140061c4aeb98818d94da321ede",
       "version_major": 2,
       "version_minor": 0
      },
      "text/plain": [
       "Creating parquet from Arrow format:   0%|          | 0/17 [00:00<?, ?ba/s]"
      ]
     },
     "metadata": {},
     "output_type": "display_data"
    },
    {
     "data": {
      "application/vnd.jupyter.widget-view+json": {
       "model_id": "0b26b99abed84413a16f713273d88362",
       "version_major": 2,
       "version_minor": 0
      },
      "text/plain": [
       "Creating parquet from Arrow format:   0%|          | 0/1 [00:00<?, ?ba/s]"
      ]
     },
     "metadata": {},
     "output_type": "display_data"
    },
    {
     "data": {
      "text/plain": [
       "1169913"
      ]
     },
     "execution_count": 66,
     "metadata": {},
     "output_type": "execute_result"
    }
   ],
   "source": [
    "reviews = load_from_disk(\"D:/BigData/raw_review_Subscription_Boxes\")[\"full\"]\n",
    "reviews.to_parquet(\"D:/BigData/review_parquet_Subscription_Boxes\")\n",
    "\n",
    "meta = load_from_disk(\"D:/BigData/raw_meta_Subscription_Boxes\")[\"full\"]\n",
    "meta.to_parquet(\"D:/BigData/meta_parquet_Subscription_Boxes\")"
   ]
  },
  {
   "cell_type": "markdown",
   "id": "abbcac55",
   "metadata": {},
   "source": [
    "### Tools and Home Improvement"
   ]
  },
  {
   "cell_type": "code",
   "execution_count": 68,
   "id": "cad2bf1b",
   "metadata": {},
   "outputs": [
    {
     "data": {
      "application/vnd.jupyter.widget-view+json": {
       "model_id": "465597813f5a40e896e074a9dc5e51b7",
       "version_major": 2,
       "version_minor": 0
      },
      "text/plain": [
       "Loading dataset from disk:   0%|          | 0/19 [00:00<?, ?it/s]"
      ]
     },
     "metadata": {},
     "output_type": "display_data"
    },
    {
     "data": {
      "application/vnd.jupyter.widget-view+json": {
       "model_id": "56567c9451864cd2b98e095a9fb449b5",
       "version_major": 2,
       "version_minor": 0
      },
      "text/plain": [
       "Creating parquet from Arrow format:   0%|          | 0/26983 [00:00<?, ?ba/s]"
      ]
     },
     "metadata": {},
     "output_type": "display_data"
    },
    {
     "data": {
      "application/vnd.jupyter.widget-view+json": {
       "model_id": "60c4b5cde8524f1a990723c3e2097a22",
       "version_major": 2,
       "version_minor": 0
      },
      "text/plain": [
       "Creating parquet from Arrow format:   0%|          | 0/1474 [00:00<?, ?ba/s]"
      ]
     },
     "metadata": {},
     "output_type": "display_data"
    },
    {
     "data": {
      "text/plain": [
       "4276745510"
      ]
     },
     "execution_count": 68,
     "metadata": {},
     "output_type": "execute_result"
    }
   ],
   "source": [
    "reviews = load_from_disk(\"D:/BigData/raw_review_Tools_and_Home_Improvement\")[\"full\"]\n",
    "reviews.to_parquet(\"D:/BigData/review_parquet_Tools_and_Home_Improvement\")\n",
    "\n",
    "meta = load_from_disk(\"D:/BigData/raw_meta_Tools_and_Home_Improvement\")[\"full\"]\n",
    "meta.to_parquet(\"D:/BigData/meta_parquet_Tools_and_Home_Improvement\")"
   ]
  },
  {
   "cell_type": "markdown",
   "id": "a5c8b00f",
   "metadata": {},
   "source": [
    "### Toys and Games"
   ]
  },
  {
   "cell_type": "code",
   "execution_count": 70,
   "id": "eb340564",
   "metadata": {},
   "outputs": [
    {
     "data": {
      "application/vnd.jupyter.widget-view+json": {
       "model_id": "e5dfe05781754386bcecfc1b7ace95c0",
       "version_major": 2,
       "version_minor": 0
      },
      "text/plain": [
       "Creating parquet from Arrow format:   0%|          | 0/16261 [00:00<?, ?ba/s]"
      ]
     },
     "metadata": {},
     "output_type": "display_data"
    },
    {
     "data": {
      "application/vnd.jupyter.widget-view+json": {
       "model_id": "ee3fa6dff936428f97aeca88782a3860",
       "version_major": 2,
       "version_minor": 0
      },
      "text/plain": [
       "Creating parquet from Arrow format:   0%|          | 0/891 [00:00<?, ?ba/s]"
      ]
     },
     "metadata": {},
     "output_type": "display_data"
    },
    {
     "data": {
      "text/plain": [
       "2291740523"
      ]
     },
     "execution_count": 70,
     "metadata": {},
     "output_type": "execute_result"
    }
   ],
   "source": [
    "reviews = load_from_disk(\"D:/BigData/raw_review_Toys_and_Games\")[\"full\"]\n",
    "reviews.to_parquet(\"D:/BigData/review_parquet_Toys_and_Games\")\n",
    "\n",
    "meta = load_from_disk(\"D:/BigData/raw_meta_Toys_and_Games\")[\"full\"]\n",
    "meta.to_parquet(\"D:/BigData/meta_parquet_Toys_and_Games\")"
   ]
  },
  {
   "cell_type": "markdown",
   "id": "2ecb39dc",
   "metadata": {},
   "source": [
    "### Unknown"
   ]
  },
  {
   "cell_type": "code",
   "execution_count": 73,
   "id": "b3146269",
   "metadata": {},
   "outputs": [
    {
     "data": {
      "application/vnd.jupyter.widget-view+json": {
       "model_id": "db581ab6d13f4a17a12a90fbb76c6f75",
       "version_major": 2,
       "version_minor": 0
      },
      "text/plain": [
       "Loading dataset from disk:   0%|          | 0/43 [00:00<?, ?it/s]"
      ]
     },
     "metadata": {},
     "output_type": "display_data"
    },
    {
     "data": {
      "application/vnd.jupyter.widget-view+json": {
       "model_id": "ba49b0886cd74ad6904679c803ce04f9",
       "version_major": 2,
       "version_minor": 0
      },
      "text/plain": [
       "Creating parquet from Arrow format:   0%|          | 0/63815 [00:00<?, ?ba/s]"
      ]
     },
     "metadata": {},
     "output_type": "display_data"
    },
    {
     "data": {
      "application/vnd.jupyter.widget-view+json": {
       "model_id": "9c9da92db66742c88f3d4b0415d122ca",
       "version_major": 2,
       "version_minor": 0
      },
      "text/plain": [
       "Creating parquet from Arrow format:   0%|          | 0/391 [00:00<?, ?ba/s]"
      ]
     },
     "metadata": {},
     "output_type": "display_data"
    },
    {
     "data": {
      "text/plain": [
       "548067424"
      ]
     },
     "execution_count": 73,
     "metadata": {},
     "output_type": "execute_result"
    }
   ],
   "source": [
    "reviews = load_from_disk(\"D:/BigData/raw_review_Unknown\")[\"full\"]\n",
    "reviews.to_parquet(\"D:/BigData/review_parquet_Unknown\")\n",
    "\n",
    "meta = load_from_disk(\"D:/BigData/raw_meta_Unknown\")[\"full\"]\n",
    "meta.to_parquet(\"D:/BigData/meta_parquet_Unknown\")"
   ]
  },
  {
   "cell_type": "markdown",
   "id": "3cc19cb2",
   "metadata": {},
   "source": [
    "### Video Games"
   ]
  },
  {
   "cell_type": "code",
   "execution_count": 75,
   "id": "eb831772",
   "metadata": {},
   "outputs": [
    {
     "data": {
      "application/vnd.jupyter.widget-view+json": {
       "model_id": "e9188cf8afcb4257a7664586e32ba8e4",
       "version_major": 2,
       "version_minor": 0
      },
      "text/plain": [
       "Creating parquet from Arrow format:   0%|          | 0/4625 [00:00<?, ?ba/s]"
      ]
     },
     "metadata": {},
     "output_type": "display_data"
    },
    {
     "data": {
      "application/vnd.jupyter.widget-view+json": {
       "model_id": "832882a943a64dc9b55eb3fe99532c7e",
       "version_major": 2,
       "version_minor": 0
      },
      "text/plain": [
       "Creating parquet from Arrow format:   0%|          | 0/138 [00:00<?, ?ba/s]"
      ]
     },
     "metadata": {},
     "output_type": "display_data"
    },
    {
     "data": {
      "text/plain": [
       "383799939"
      ]
     },
     "execution_count": 75,
     "metadata": {},
     "output_type": "execute_result"
    }
   ],
   "source": [
    "reviews = load_from_disk(\"D:/BigData/raw_review_Video_Games\")[\"full\"]\n",
    "reviews.to_parquet(\"D:/BigData/review_parquet_Video_Games\")\n",
    "\n",
    "meta = load_from_disk(\"D:/BigData/raw_meta_Video_Games\")[\"full\"]\n",
    "meta.to_parquet(\"D:/BigData/meta_parquet_Video_Games\")"
   ]
  }
 ],
 "metadata": {
  "kernelspec": {
   "display_name": "Python 3",
   "language": "python",
   "name": "python3"
  },
  "language_info": {
   "codemirror_mode": {
    "name": "ipython",
    "version": 3
   },
   "file_extension": ".py",
   "mimetype": "text/x-python",
   "name": "python",
   "nbconvert_exporter": "python",
   "pygments_lexer": "ipython3",
   "version": "3.10.0"
  }
 },
 "nbformat": 4,
 "nbformat_minor": 5
}
