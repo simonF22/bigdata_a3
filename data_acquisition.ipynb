{
 "cells": [
  {
   "cell_type": "markdown",
   "id": "0bca4118",
   "metadata": {},
   "source": [
    "# Data Acquisition\n",
    "This covers the data acquisition task of downloading all review categories."
   ]
  },
  {
   "cell_type": "code",
   "execution_count": null,
   "id": "c9bbf263",
   "metadata": {},
   "outputs": [],
   "source": [
    "from bigdata_a3_utils import download_all_amazon_reviews"
   ]
  },
  {
   "cell_type": "markdown",
   "id": "93aca6b9",
   "metadata": {},
   "source": [
    "The dataset will be downloaded using the provided **download_all_amazon_reviews** function from bigdata_a3_utils. It will be stored on an secondary (external) hard drive (D:)."
   ]
  },
  {
   "cell_type": "code",
   "execution_count": null,
   "id": "7c5fa6fb",
   "metadata": {},
   "outputs": [],
   "source": [
    "download_all_amazon_reviews(\n",
    "base_save_path=\"D:/BigData\",\n",
    "categories=None,\n",
    "compress=False\n",
    ")"
   ]
  }
 ],
 "metadata": {
  "kernelspec": {
   "display_name": "Python 3",
   "language": "python",
   "name": "python3"
  },
  "language_info": {
   "codemirror_mode": {
    "name": "ipython",
    "version": 3
   },
   "file_extension": ".py",
   "mimetype": "text/x-python",
   "name": "python",
   "nbconvert_exporter": "python",
   "pygments_lexer": "ipython3",
   "version": "3.13.2"
  }
 },
 "nbformat": 4,
 "nbformat_minor": 5
}
