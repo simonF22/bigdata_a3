{
 "cells": [
  {
   "cell_type": "markdown",
   "id": "a22235e9",
   "metadata": {},
   "source": [
    "# Data Cleaning and Preprocessing\n",
    "\n",
    "The preprocessing will begin by loading the raw acquired dataset categories (review and meta) from disk and storing it in respective parquet files for easy storing and access. The dataset will be read from the parquet file into a spark dataframe where it will be first be merged with its corresponding meta dataset and then cleaned."
   ]
  },
  {
   "cell_type": "code",
   "execution_count": 1,
   "id": "a2a984b0",
   "metadata": {},
   "outputs": [],
   "source": [
    "import findspark\n",
    "from pyspark.sql import SparkSession\n",
    "from pyspark import SparkContext \n",
    "import pyspark\n",
    "from datasets import load_from_disk\n",
    "from pyspark.sql.functions import col, length, trim, when, lit, from_json, split, size, from_unixtime, year\n",
    "from pyspark.sql.types import StructType, StructField, StringType\n",
    "from functools import reduce\n",
    "from pyspark.sql import DataFrame"
   ]
  },
  {
   "cell_type": "code",
   "execution_count": 2,
   "id": "cc9bdc12",
   "metadata": {},
   "outputs": [],
   "source": [
    "findspark.init()"
   ]
  },
  {
   "cell_type": "code",
   "execution_count": 3,
   "id": "3cb88875",
   "metadata": {},
   "outputs": [],
   "source": [
    "spark = SparkSession.builder \\\n",
    ".master(\"local[2]\") \\\n",
    ".appName(\"AmazonReviews\") \\\n",
    ".config(\"spark.driver.memory\", \"6g\") \\\n",
    ".config(\"spark.executor.memory\", \"6g\") \\\n",
    ".getOrCreate()"
   ]
  },
  {
   "cell_type": "code",
   "execution_count": 4,
   "id": "06f438e6",
   "metadata": {},
   "outputs": [],
   "source": [
    "all_categories_cleaned = []"
   ]
  },
  {
   "cell_type": "code",
   "execution_count": 5,
   "id": "b1ea0b90",
   "metadata": {},
   "outputs": [],
   "source": [
    "categories = [\n",
    "    \"All_Beauty\", \"Amazon_Fashion\", \"Appliances\", \"Arts_Crafts_and_Sewing\", \"Automotive\",\n",
    "    \"Baby_Products\", \"Beauty_and_Personal_Care\", \"Books\", \"CDs_and_Vinyl\",\n",
    "    \"Cell_Phones_and_Accessories\", \"Clothing_Shoes_and_Jewelry\", \"Digital_Music\", \"Electronics\",\n",
    "    \"Gift_Cards\", \"Grocery_and_Gourmet_Food\", \"Handmade_Products\", \"Health_and_Household\",\n",
    "    \"Health_and_Personal_Care\", \"Home_and_Kitchen\", \"Industrial_and_Scientific\", \"Kindle_Store\",\n",
    "    \"Magazine_Subscriptions\", \"Movies_and_TV\", \"Musical_Instruments\", \"Office_Products\",\n",
    "    \"Patio_Lawn_and_Garden\", \"Pet_Supplies\", \"Software\", \"Sports_and_Outdoors\",\n",
    "    \"Subscription_Boxes\", \"Tools_and_Home_Improvement\", \"Toys_and_Games\", \"Video_Games\", \"Unknown\"\n",
    "]"
   ]
  },
  {
   "cell_type": "markdown",
   "id": "b4f42b5d",
   "metadata": {},
   "source": [
    "### Function: Assigning the Brand\n",
    "\n",
    "This function will parse the 'details' column for brand or will otherwise extract the brand name from the non-null value in the 'store' column."
   ]
  },
  {
   "cell_type": "code",
   "execution_count": 4,
   "id": "0198135d",
   "metadata": {},
   "outputs": [],
   "source": [
    "def set_brand(df):\n",
    "    details_schema = StructType([\n",
    "        StructField(\"Brand\", StringType(), True)\n",
    "    ])\n",
    "\n",
    "    df = df.withColumn(\"details_parsed\", from_json(col(\"details\"), details_schema))\n",
    "\n",
    "    df = df.withColumn(\n",
    "        \"brand\",\n",
    "        when(\n",
    "            col(\"details_parsed.Brand\").isNotNull() & (trim(col(\"details_parsed.Brand\")) != \"\"),\n",
    "            trim(col(\"details_parsed.Brand\"))\n",
    "        ).when(\n",
    "            col(\"store\").isNotNull() & (trim(col(\"store\")) != \"\"),\n",
    "            trim(col(\"store\"))\n",
    "        ).otherwise(lit(\"Unknown\"))\n",
    "    )\n",
    "\n",
    "    df = df.drop(\"details_parsed\")\n",
    "\n",
    "    return df"
   ]
  },
  {
   "cell_type": "markdown",
   "id": "16fac5d7",
   "metadata": {},
   "source": [
    "### Function: Cleaning the Dataset\n",
    "\n",
    "This function will combine all the necessary cleaning tasks. It also includes extracting the brand which has its own function call. After the review and meta dataset is merged for each category, this function will be called on the dataset."
   ]
  },
  {
   "cell_type": "code",
   "execution_count": 5,
   "id": "ed6b0a13",
   "metadata": {},
   "outputs": [],
   "source": [
    "def clean_dataset(df):\n",
    "    df = df.filter(col(\"rating\").isin([1, 2, 3, 4, 5]))\n",
    "    df = df.filter((col(\"text\").isNotNull()) & (length(trim(col(\"text\"))) > 0))\n",
    "    df = set_brand(df)\n",
    "    df = df.dropDuplicates([\"user_id\", \"asin\", \"text\"])\n",
    "    df = df.withColumn(\n",
    "    \"review_length\", \n",
    "    size(split(col(\"text\"), r\"\\s+\"))\n",
    "    )\n",
    "    df = df.withColumn(\n",
    "    \"year\", \n",
    "    when(\n",
    "        col(\"timestamp\").isNotNull(), \n",
    "        year(from_unixtime(col(\"timestamp\") / 1000))\n",
    "    ).otherwise(None)\n",
    "    )\n",
    "    return df"
   ]
  },
  {
   "cell_type": "markdown",
   "id": "e85fb6fd",
   "metadata": {},
   "source": [
    "### All Beauty"
   ]
  },
  {
   "cell_type": "code",
   "execution_count": 7,
   "id": "fe3e775f",
   "metadata": {},
   "outputs": [
    {
     "data": {
      "application/vnd.jupyter.widget-view+json": {
       "model_id": "b11f424e30dc425abf1d4cfc29d26537",
       "version_major": 2,
       "version_minor": 0
      },
      "text/plain": [
       "Creating parquet from Arrow format:   0%|          | 0/702 [00:00<?, ?ba/s]"
      ]
     },
     "metadata": {},
     "output_type": "display_data"
    },
    {
     "data": {
      "application/vnd.jupyter.widget-view+json": {
       "model_id": "aa7bf29aec8349d4a11546810a209e1f",
       "version_major": 2,
       "version_minor": 0
      },
      "text/plain": [
       "Creating parquet from Arrow format:   0%|          | 0/113 [00:00<?, ?ba/s]"
      ]
     },
     "metadata": {},
     "output_type": "display_data"
    },
    {
     "data": {
      "text/plain": [
       "172622243"
      ]
     },
     "execution_count": 7,
     "metadata": {},
     "output_type": "execute_result"
    }
   ],
   "source": [
    "reviews = load_from_disk(\"D:/BigData/raw_review_All_Beauty\")[\"full\"]\n",
    "reviews.to_parquet(\"D:/BigData/review_parquet_All_Beauty\")\n",
    "\n",
    "meta = load_from_disk(\"D:/BigData/raw_meta_All_Beauty\")[\"full\"]\n",
    "meta.to_parquet(\"D:/BigData/meta_parquet_All_Beauty\")"
   ]
  },
  {
   "cell_type": "code",
   "execution_count": 9,
   "id": "6cd8fced",
   "metadata": {},
   "outputs": [],
   "source": [
    "review_df = spark.read.parquet(\"D:/BigData/review_parquet_All_Beauty\")\n",
    "meta_df = spark.read.parquet(\"D:/BigData/meta_parquet_All_Beauty\")\n",
    "\n",
    "review_df = review_df.withColumnRenamed(\"images\", \"review_images\")\n",
    "meta_df = meta_df.withColumnRenamed(\"images\", \"meta_images\")\n",
    "review_df = review_df.withColumnRenamed(\"title\", \"review_title\")\n",
    "meta_df = meta_df.withColumnRenamed(\"title\", \"meta_title\")\n",
    "\n",
    "merged_df = review_df.join(meta_df, on=\"parent_asin\", how=\"inner\")\n",
    "\n",
    "cleaned_df = clean_dataset(merged_df)\n"
   ]
  },
  {
   "cell_type": "markdown",
   "id": "238de270",
   "metadata": {},
   "source": [
    "### Amazon Fashion"
   ]
  },
  {
   "cell_type": "code",
   "execution_count": null,
   "id": "85b7653b",
   "metadata": {},
   "outputs": [
    {
     "data": {
      "application/vnd.jupyter.widget-view+json": {
       "model_id": "d4915b9fa6394129bf971a25b38fbd34",
       "version_major": 2,
       "version_minor": 0
      },
      "text/plain": [
       "Creating parquet from Arrow format:   0%|          | 0/2501 [00:00<?, ?ba/s]"
      ]
     },
     "metadata": {},
     "output_type": "display_data"
    },
    {
     "data": {
      "application/vnd.jupyter.widget-view+json": {
       "model_id": "fc48f7e857724d1ab55db2ac1dd795ec",
       "version_major": 2,
       "version_minor": 0
      },
      "text/plain": [
       "Creating parquet from Arrow format:   0%|          | 0/827 [00:00<?, ?ba/s]"
      ]
     },
     "metadata": {},
     "output_type": "display_data"
    },
    {
     "data": {
      "text/plain": [
       "1144976848"
      ]
     },
     "execution_count": 9,
     "metadata": {},
     "output_type": "execute_result"
    }
   ],
   "source": [
    "reviews = load_from_disk(\"D:/BigData/raw_review_Amazon_Fashion\")[\"full\"]\n",
    "reviews.to_parquet(\"D:/BigData/review_parquet_Amazon_Fashion\")\n",
    "\n",
    "meta = load_from_disk(\"D:/BigData/raw_meta_Amazon_Fashion\")[\"full\"]\n",
    "meta.to_parquet(\"D:/BigData/meta_parquet_Amazon_Fashion\")"
   ]
  },
  {
   "cell_type": "code",
   "execution_count": null,
   "id": "3ef3e980",
   "metadata": {},
   "outputs": [],
   "source": [
    "review_df = spark.read.parquet(\"D:/BigData/review_parquet_Amazon_Fashion\")\n",
    "meta_df = spark.read.parquet(\"D:/BigData/meta_parquet_Amazon_Fashion\")\n",
    "\n",
    "review_df = review_df.withColumnRenamed(\"images\", \"review_images\")\n",
    "meta_df = meta_df.withColumnRenamed(\"images\", \"meta_images\")\n",
    "review_df = review_df.withColumnRenamed(\"title\", \"review_title\")\n",
    "meta_df = meta_df.withColumnRenamed(\"title\", \"meta_title\")\n",
    "\n",
    "merged_df = review_df.join(meta_df, on=\"parent_asin\", how=\"inner\")\n",
    "\n",
    "cleaned_df = clean_dataset(merged_df)"
   ]
  },
  {
   "cell_type": "markdown",
   "id": "5f87bf43",
   "metadata": {},
   "source": [
    "### Appliances"
   ]
  },
  {
   "cell_type": "code",
   "execution_count": 11,
   "id": "bc0d5f41",
   "metadata": {},
   "outputs": [
    {
     "data": {
      "application/vnd.jupyter.widget-view+json": {
       "model_id": "821d1c9e86c04f38882649fb7bbfd049",
       "version_major": 2,
       "version_minor": 0
      },
      "text/plain": [
       "Creating parquet from Arrow format:   0%|          | 0/2129 [00:00<?, ?ba/s]"
      ]
     },
     "metadata": {},
     "output_type": "display_data"
    },
    {
     "data": {
      "application/vnd.jupyter.widget-view+json": {
       "model_id": "4b9eb8ed564d47b1b740c9a3c3982768",
       "version_major": 2,
       "version_minor": 0
      },
      "text/plain": [
       "Creating parquet from Arrow format:   0%|          | 0/95 [00:00<?, ?ba/s]"
      ]
     },
     "metadata": {},
     "output_type": "display_data"
    },
    {
     "data": {
      "text/plain": [
       "249325037"
      ]
     },
     "execution_count": 11,
     "metadata": {},
     "output_type": "execute_result"
    }
   ],
   "source": [
    "reviews = load_from_disk(\"D:/BigData/raw_review_Appliances\")[\"full\"]\n",
    "reviews.to_parquet(\"D:/BigData/review_parquet_Appliances\")\n",
    "\n",
    "meta = load_from_disk(\"D:/BigData/raw_meta_Appliances\")[\"full\"]\n",
    "meta.to_parquet(\"D:/BigData/meta_parquet_Appliances\")"
   ]
  },
  {
   "cell_type": "code",
   "execution_count": null,
   "id": "4cc8dfd7",
   "metadata": {},
   "outputs": [],
   "source": [
    "review_df = spark.read.parquet(\"D:/BigData/review_parquet_Appliances\")\n",
    "meta_df = spark.read.parquet(\"D:/BigData/meta_parquet_Appliances\")\n",
    "\n",
    "review_df = review_df.withColumnRenamed(\"images\", \"review_images\")\n",
    "meta_df = meta_df.withColumnRenamed(\"images\", \"meta_images\")\n",
    "review_df = review_df.withColumnRenamed(\"title\", \"review_title\")\n",
    "meta_df = meta_df.withColumnRenamed(\"title\", \"meta_title\")\n",
    "\n",
    "merged_df = review_df.join(meta_df, on=\"parent_asin\", how=\"inner\")\n",
    "\n",
    "cleaned_df = clean_dataset(merged_df)"
   ]
  },
  {
   "cell_type": "markdown",
   "id": "57a8d4ad",
   "metadata": {},
   "source": [
    "### Arts Crafts and Sewing"
   ]
  },
  {
   "cell_type": "code",
   "execution_count": 13,
   "id": "b2e74d40",
   "metadata": {},
   "outputs": [
    {
     "data": {
      "application/vnd.jupyter.widget-view+json": {
       "model_id": "c62dbdaabf3c4725b7d3da3a767499f7",
       "version_major": 2,
       "version_minor": 0
      },
      "text/plain": [
       "Creating parquet from Arrow format:   0%|          | 0/8967 [00:00<?, ?ba/s]"
      ]
     },
     "metadata": {},
     "output_type": "display_data"
    },
    {
     "data": {
      "application/vnd.jupyter.widget-view+json": {
       "model_id": "7483ee85f6c34067a7635dd67403b0dd",
       "version_major": 2,
       "version_minor": 0
      },
      "text/plain": [
       "Creating parquet from Arrow format:   0%|          | 0/802 [00:00<?, ?ba/s]"
      ]
     },
     "metadata": {},
     "output_type": "display_data"
    },
    {
     "data": {
      "text/plain": [
       "1893261407"
      ]
     },
     "execution_count": 13,
     "metadata": {},
     "output_type": "execute_result"
    }
   ],
   "source": [
    "reviews = load_from_disk(\"D:/BigData/raw_review_Arts_Crafts_and_Sewing\")[\"full\"]\n",
    "reviews.to_parquet(\"D:/BigData/review_parquet_Arts_Crafts_and_Sewing\")\n",
    "\n",
    "meta = load_from_disk(\"D:/BigData/raw_meta_Arts_Crafts_and_Sewing\")[\"full\"]\n",
    "meta.to_parquet(\"D:/BigData/meta_parquet_Arts_Crafts_and_Sewing\")"
   ]
  },
  {
   "cell_type": "code",
   "execution_count": null,
   "id": "e48b3f05",
   "metadata": {},
   "outputs": [
    {
     "ename": "ConnectionRefusedError",
     "evalue": "[WinError 10061] No connection could be made because the target machine actively refused it",
     "output_type": "error",
     "traceback": [
      "\u001b[31m---------------------------------------------------------------------------\u001b[39m",
      "\u001b[31mConnectionRefusedError\u001b[39m                    Traceback (most recent call last)",
      "\u001b[36mCell\u001b[39m\u001b[36m \u001b[39m\u001b[32mIn[14]\u001b[39m\u001b[32m, line 1\u001b[39m\n\u001b[32m----> \u001b[39m\u001b[32m1\u001b[39m review_df = \u001b[43mspark\u001b[49m\u001b[43m.\u001b[49m\u001b[43mread\u001b[49m.parquet(\u001b[33m\"\u001b[39m\u001b[33mD:/BigData/review_parquet_Arts_Crafts_and_Sewing\u001b[39m\u001b[33m\"\u001b[39m)\n\u001b[32m      2\u001b[39m meta_df = spark.read.parquet(\u001b[33m\"\u001b[39m\u001b[33mD:/BigData/meta_parquet_Arts_Crafts_and_Sewing\u001b[39m\u001b[33m\"\u001b[39m)\n\u001b[32m      3\u001b[39m merged_df = review_df.join(meta_df, on=\u001b[33m\"\u001b[39m\u001b[33mparent_asin\u001b[39m\u001b[33m\"\u001b[39m, how=\u001b[33m\"\u001b[39m\u001b[33minner\u001b[39m\u001b[33m\"\u001b[39m)\n",
      "\u001b[36mFile \u001b[39m\u001b[32mc:\\Users\\Admin\\AppData\\Local\\Programs\\Python\\Python313\\Lib\\site-packages\\pyspark\\sql\\session.py:1706\u001b[39m, in \u001b[36mSparkSession.read\u001b[39m\u001b[34m(self)\u001b[39m\n\u001b[32m   1669\u001b[39m \u001b[38;5;129m@property\u001b[39m\n\u001b[32m   1670\u001b[39m \u001b[38;5;28;01mdef\u001b[39;00m\u001b[38;5;250m \u001b[39m\u001b[34mread\u001b[39m(\u001b[38;5;28mself\u001b[39m) -> DataFrameReader:\n\u001b[32m   1671\u001b[39m \u001b[38;5;250m    \u001b[39m\u001b[33;03m\"\"\"\u001b[39;00m\n\u001b[32m   1672\u001b[39m \u001b[33;03m    Returns a :class:`DataFrameReader` that can be used to read data\u001b[39;00m\n\u001b[32m   1673\u001b[39m \u001b[33;03m    in as a :class:`DataFrame`.\u001b[39;00m\n\u001b[32m   (...)\u001b[39m\u001b[32m   1704\u001b[39m \u001b[33;03m    +---+------------+\u001b[39;00m\n\u001b[32m   1705\u001b[39m \u001b[33;03m    \"\"\"\u001b[39;00m\n\u001b[32m-> \u001b[39m\u001b[32m1706\u001b[39m     \u001b[38;5;28;01mreturn\u001b[39;00m \u001b[43mDataFrameReader\u001b[49m\u001b[43m(\u001b[49m\u001b[38;5;28;43mself\u001b[39;49m\u001b[43m)\u001b[49m\n",
      "\u001b[36mFile \u001b[39m\u001b[32mc:\\Users\\Admin\\AppData\\Local\\Programs\\Python\\Python313\\Lib\\site-packages\\pyspark\\sql\\readwriter.py:70\u001b[39m, in \u001b[36mDataFrameReader.__init__\u001b[39m\u001b[34m(self, spark)\u001b[39m\n\u001b[32m     69\u001b[39m \u001b[38;5;28;01mdef\u001b[39;00m\u001b[38;5;250m \u001b[39m\u001b[34m__init__\u001b[39m(\u001b[38;5;28mself\u001b[39m, spark: \u001b[33m\"\u001b[39m\u001b[33mSparkSession\u001b[39m\u001b[33m\"\u001b[39m):\n\u001b[32m---> \u001b[39m\u001b[32m70\u001b[39m     \u001b[38;5;28mself\u001b[39m._jreader = \u001b[43mspark\u001b[49m\u001b[43m.\u001b[49m\u001b[43m_jsparkSession\u001b[49m\u001b[43m.\u001b[49m\u001b[43mread\u001b[49m\u001b[43m(\u001b[49m\u001b[43m)\u001b[49m\n\u001b[32m     71\u001b[39m     \u001b[38;5;28mself\u001b[39m._spark = spark\n",
      "\u001b[36mFile \u001b[39m\u001b[32mc:\\Users\\Admin\\AppData\\Local\\Programs\\Python\\Python313\\Lib\\site-packages\\py4j\\java_gateway.py:1321\u001b[39m, in \u001b[36mJavaMember.__call__\u001b[39m\u001b[34m(self, *args)\u001b[39m\n\u001b[32m   1314\u001b[39m args_command, temp_args = \u001b[38;5;28mself\u001b[39m._build_args(*args)\n\u001b[32m   1316\u001b[39m command = proto.CALL_COMMAND_NAME +\\\n\u001b[32m   1317\u001b[39m     \u001b[38;5;28mself\u001b[39m.command_header +\\\n\u001b[32m   1318\u001b[39m     args_command +\\\n\u001b[32m   1319\u001b[39m     proto.END_COMMAND_PART\n\u001b[32m-> \u001b[39m\u001b[32m1321\u001b[39m answer = \u001b[38;5;28;43mself\u001b[39;49m\u001b[43m.\u001b[49m\u001b[43mgateway_client\u001b[49m\u001b[43m.\u001b[49m\u001b[43msend_command\u001b[49m\u001b[43m(\u001b[49m\u001b[43mcommand\u001b[49m\u001b[43m)\u001b[49m\n\u001b[32m   1322\u001b[39m return_value = get_return_value(\n\u001b[32m   1323\u001b[39m     answer, \u001b[38;5;28mself\u001b[39m.gateway_client, \u001b[38;5;28mself\u001b[39m.target_id, \u001b[38;5;28mself\u001b[39m.name)\n\u001b[32m   1325\u001b[39m \u001b[38;5;28;01mfor\u001b[39;00m temp_arg \u001b[38;5;129;01min\u001b[39;00m temp_args:\n",
      "\u001b[36mFile \u001b[39m\u001b[32mc:\\Users\\Admin\\AppData\\Local\\Programs\\Python\\Python313\\Lib\\site-packages\\py4j\\java_gateway.py:1036\u001b[39m, in \u001b[36mGatewayClient.send_command\u001b[39m\u001b[34m(self, command, retry, binary)\u001b[39m\n\u001b[32m   1015\u001b[39m \u001b[38;5;28;01mdef\u001b[39;00m\u001b[38;5;250m \u001b[39m\u001b[34msend_command\u001b[39m(\u001b[38;5;28mself\u001b[39m, command, retry=\u001b[38;5;28;01mTrue\u001b[39;00m, binary=\u001b[38;5;28;01mFalse\u001b[39;00m):\n\u001b[32m   1016\u001b[39m \u001b[38;5;250m    \u001b[39m\u001b[33;03m\"\"\"Sends a command to the JVM. This method is not intended to be\u001b[39;00m\n\u001b[32m   1017\u001b[39m \u001b[33;03m       called directly by Py4J users. It is usually called by\u001b[39;00m\n\u001b[32m   1018\u001b[39m \u001b[33;03m       :class:`JavaMember` instances.\u001b[39;00m\n\u001b[32m   (...)\u001b[39m\u001b[32m   1034\u001b[39m \u001b[33;03m     if `binary` is `True`.\u001b[39;00m\n\u001b[32m   1035\u001b[39m \u001b[33;03m    \"\"\"\u001b[39;00m\n\u001b[32m-> \u001b[39m\u001b[32m1036\u001b[39m     connection = \u001b[38;5;28;43mself\u001b[39;49m\u001b[43m.\u001b[49m\u001b[43m_get_connection\u001b[49m\u001b[43m(\u001b[49m\u001b[43m)\u001b[49m\n\u001b[32m   1037\u001b[39m     \u001b[38;5;28;01mtry\u001b[39;00m:\n\u001b[32m   1038\u001b[39m         response = connection.send_command(command)\n",
      "\u001b[36mFile \u001b[39m\u001b[32mc:\\Users\\Admin\\AppData\\Local\\Programs\\Python\\Python313\\Lib\\site-packages\\py4j\\clientserver.py:284\u001b[39m, in \u001b[36mJavaClient._get_connection\u001b[39m\u001b[34m(self)\u001b[39m\n\u001b[32m    281\u001b[39m     \u001b[38;5;28;01mpass\u001b[39;00m\n\u001b[32m    283\u001b[39m \u001b[38;5;28;01mif\u001b[39;00m connection \u001b[38;5;129;01mis\u001b[39;00m \u001b[38;5;28;01mNone\u001b[39;00m \u001b[38;5;129;01mor\u001b[39;00m connection.socket \u001b[38;5;129;01mis\u001b[39;00m \u001b[38;5;28;01mNone\u001b[39;00m:\n\u001b[32m--> \u001b[39m\u001b[32m284\u001b[39m     connection = \u001b[38;5;28;43mself\u001b[39;49m\u001b[43m.\u001b[49m\u001b[43m_create_new_connection\u001b[49m\u001b[43m(\u001b[49m\u001b[43m)\u001b[49m\n\u001b[32m    285\u001b[39m \u001b[38;5;28;01mreturn\u001b[39;00m connection\n",
      "\u001b[36mFile \u001b[39m\u001b[32mc:\\Users\\Admin\\AppData\\Local\\Programs\\Python\\Python313\\Lib\\site-packages\\py4j\\clientserver.py:291\u001b[39m, in \u001b[36mJavaClient._create_new_connection\u001b[39m\u001b[34m(self)\u001b[39m\n\u001b[32m    287\u001b[39m \u001b[38;5;28;01mdef\u001b[39;00m\u001b[38;5;250m \u001b[39m\u001b[34m_create_new_connection\u001b[39m(\u001b[38;5;28mself\u001b[39m):\n\u001b[32m    288\u001b[39m     connection = ClientServerConnection(\n\u001b[32m    289\u001b[39m         \u001b[38;5;28mself\u001b[39m.java_parameters, \u001b[38;5;28mself\u001b[39m.python_parameters,\n\u001b[32m    290\u001b[39m         \u001b[38;5;28mself\u001b[39m.gateway_property, \u001b[38;5;28mself\u001b[39m)\n\u001b[32m--> \u001b[39m\u001b[32m291\u001b[39m     \u001b[43mconnection\u001b[49m\u001b[43m.\u001b[49m\u001b[43mconnect_to_java_server\u001b[49m\u001b[43m(\u001b[49m\u001b[43m)\u001b[49m\n\u001b[32m    292\u001b[39m     \u001b[38;5;28mself\u001b[39m.set_thread_connection(connection)\n\u001b[32m    293\u001b[39m     \u001b[38;5;28;01mreturn\u001b[39;00m connection\n",
      "\u001b[36mFile \u001b[39m\u001b[32mc:\\Users\\Admin\\AppData\\Local\\Programs\\Python\\Python313\\Lib\\site-packages\\py4j\\clientserver.py:438\u001b[39m, in \u001b[36mClientServerConnection.connect_to_java_server\u001b[39m\u001b[34m(self)\u001b[39m\n\u001b[32m    435\u001b[39m \u001b[38;5;28;01mif\u001b[39;00m \u001b[38;5;28mself\u001b[39m.ssl_context:\n\u001b[32m    436\u001b[39m     \u001b[38;5;28mself\u001b[39m.socket = \u001b[38;5;28mself\u001b[39m.ssl_context.wrap_socket(\n\u001b[32m    437\u001b[39m         \u001b[38;5;28mself\u001b[39m.socket, server_hostname=\u001b[38;5;28mself\u001b[39m.java_address)\n\u001b[32m--> \u001b[39m\u001b[32m438\u001b[39m \u001b[38;5;28;43mself\u001b[39;49m\u001b[43m.\u001b[49m\u001b[43msocket\u001b[49m\u001b[43m.\u001b[49m\u001b[43mconnect\u001b[49m\u001b[43m(\u001b[49m\u001b[43m(\u001b[49m\u001b[38;5;28;43mself\u001b[39;49m\u001b[43m.\u001b[49m\u001b[43mjava_address\u001b[49m\u001b[43m,\u001b[49m\u001b[43m \u001b[49m\u001b[38;5;28;43mself\u001b[39;49m\u001b[43m.\u001b[49m\u001b[43mjava_port\u001b[49m\u001b[43m)\u001b[49m\u001b[43m)\u001b[49m\n\u001b[32m    439\u001b[39m \u001b[38;5;28mself\u001b[39m.stream = \u001b[38;5;28mself\u001b[39m.socket.makefile(\u001b[33m\"\u001b[39m\u001b[33mrb\u001b[39m\u001b[33m\"\u001b[39m)\n\u001b[32m    440\u001b[39m \u001b[38;5;28mself\u001b[39m.is_connected = \u001b[38;5;28;01mTrue\u001b[39;00m\n",
      "\u001b[31mConnectionRefusedError\u001b[39m: [WinError 10061] No connection could be made because the target machine actively refused it"
     ]
    }
   ],
   "source": [
    "review_df = spark.read.parquet(\"D:/BigData/review_parquet_Arts_Crafts_and_Sewing\")\n",
    "meta_df = spark.read.parquet(\"D:/BigData/meta_parquet_Arts_Crafts_and_Sewing\")\n",
    "\n",
    "review_df = review_df.withColumnRenamed(\"images\", \"review_images\")\n",
    "meta_df = meta_df.withColumnRenamed(\"images\", \"meta_images\")\n",
    "review_df = review_df.withColumnRenamed(\"title\", \"review_title\")\n",
    "meta_df = meta_df.withColumnRenamed(\"title\", \"meta_title\")\n",
    "\n",
    "merged_df = review_df.join(meta_df, on=\"parent_asin\", how=\"inner\")\n",
    "\n",
    "cleaned_df = clean_dataset(merged_df)"
   ]
  },
  {
   "cell_type": "markdown",
   "id": "e0835d5e",
   "metadata": {},
   "source": [
    "### Automotive"
   ]
  },
  {
   "cell_type": "code",
   "execution_count": 15,
   "id": "33a72b55",
   "metadata": {},
   "outputs": [
    {
     "data": {
      "application/vnd.jupyter.widget-view+json": {
       "model_id": "39c58068852e4096833e1fdb9857799d",
       "version_major": 2,
       "version_minor": 0
      },
      "text/plain": [
       "Creating parquet from Arrow format:   0%|          | 0/19956 [00:00<?, ?ba/s]"
      ]
     },
     "metadata": {},
     "output_type": "display_data"
    },
    {
     "data": {
      "application/vnd.jupyter.widget-view+json": {
       "model_id": "6a9860d382b149a0ad8f88ec6880ff54",
       "version_major": 2,
       "version_minor": 0
      },
      "text/plain": [
       "Creating parquet from Arrow format:   0%|          | 0/2004 [00:00<?, ?ba/s]"
      ]
     },
     "metadata": {},
     "output_type": "display_data"
    },
    {
     "data": {
      "text/plain": [
       "4700533152"
      ]
     },
     "execution_count": 15,
     "metadata": {},
     "output_type": "execute_result"
    }
   ],
   "source": [
    "reviews = load_from_disk(\"D:/BigData/raw_review_Automotive\")[\"full\"]\n",
    "reviews.to_parquet(\"D:/BigData/review_parquet_Automotive\")\n",
    "\n",
    "meta = load_from_disk(\"D:/BigData/raw_meta_Automotive\")[\"full\"]\n",
    "meta.to_parquet(\"D:/BigData/meta_parquet_Automotive\")"
   ]
  },
  {
   "cell_type": "code",
   "execution_count": null,
   "id": "5160e97e",
   "metadata": {},
   "outputs": [],
   "source": [
    "review_df = spark.read.parquet(\"D:/BigData/review_parquet_Automotive\")\n",
    "meta_df = spark.read.parquet(\"D:/BigData/meta_parquet_Automotive\")\n",
    "\n",
    "review_df = review_df.withColumnRenamed(\"images\", \"review_images\")\n",
    "meta_df = meta_df.withColumnRenamed(\"images\", \"meta_images\")\n",
    "review_df = review_df.withColumnRenamed(\"title\", \"review_title\")\n",
    "meta_df = meta_df.withColumnRenamed(\"title\", \"meta_title\")\n",
    "\n",
    "merged_df = review_df.join(meta_df, on=\"parent_asin\", how=\"inner\")\n",
    "\n",
    "cleaned_df = clean_dataset(merged_df)"
   ]
  },
  {
   "cell_type": "markdown",
   "id": "9543f5ad",
   "metadata": {},
   "source": [
    "### Baby Products"
   ]
  },
  {
   "cell_type": "code",
   "execution_count": 17,
   "id": "78bded59",
   "metadata": {},
   "outputs": [
    {
     "data": {
      "application/vnd.jupyter.widget-view+json": {
       "model_id": "55088caa79824d0ab14bd4a5d5680fda",
       "version_major": 2,
       "version_minor": 0
      },
      "text/plain": [
       "Creating parquet from Arrow format:   0%|          | 0/6029 [00:00<?, ?ba/s]"
      ]
     },
     "metadata": {},
     "output_type": "display_data"
    },
    {
     "data": {
      "application/vnd.jupyter.widget-view+json": {
       "model_id": "7d1a24ce944d4ae48364278dc98527e6",
       "version_major": 2,
       "version_minor": 0
      },
      "text/plain": [
       "Creating parquet from Arrow format:   0%|          | 0/218 [00:00<?, ?ba/s]"
      ]
     },
     "metadata": {},
     "output_type": "display_data"
    },
    {
     "data": {
      "text/plain": [
       "603639554"
      ]
     },
     "execution_count": 17,
     "metadata": {},
     "output_type": "execute_result"
    }
   ],
   "source": [
    "reviews = load_from_disk(\"D:/BigData/raw_review_Baby_Products\")[\"full\"]\n",
    "reviews.to_parquet(\"D:/BigData/review_parquet_Baby_Products\")\n",
    "\n",
    "meta = load_from_disk(\"D:/BigData/raw_meta_Baby_Products\")[\"full\"]\n",
    "meta.to_parquet(\"D:/BigData/meta_parquet_Baby_Products\")"
   ]
  },
  {
   "cell_type": "code",
   "execution_count": null,
   "id": "ee13b9c6",
   "metadata": {},
   "outputs": [],
   "source": [
    "review_df = spark.read.parquet(\"D:/BigData/review_parquet_Baby_Products\")\n",
    "meta_df = spark.read.parquet(\"D:/BigData/meta_parquet_Baby_Products\")\n",
    "\n",
    "review_df = review_df.withColumnRenamed(\"images\", \"review_images\")\n",
    "meta_df = meta_df.withColumnRenamed(\"images\", \"meta_images\")\n",
    "review_df = review_df.withColumnRenamed(\"title\", \"review_title\")\n",
    "meta_df = meta_df.withColumnRenamed(\"title\", \"meta_title\")\n",
    "\n",
    "merged_df = review_df.join(meta_df, on=\"parent_asin\", how=\"inner\")\n",
    "\n",
    "cleaned_df = clean_dataset(merged_df)"
   ]
  },
  {
   "cell_type": "markdown",
   "id": "1cb485ac",
   "metadata": {},
   "source": [
    "### Beauty and Personal Care"
   ]
  },
  {
   "cell_type": "code",
   "execution_count": null,
   "id": "25a851df",
   "metadata": {},
   "outputs": [
    {
     "data": {
      "application/vnd.jupyter.widget-view+json": {
       "model_id": "a89decb1858c4febaaaef997a07c89b7",
       "version_major": 2,
       "version_minor": 0
      },
      "text/plain": [
       "Creating parquet from Arrow format:   0%|          | 0/23912 [00:00<?, ?ba/s]"
      ]
     },
     "metadata": {},
     "output_type": "display_data"
    },
    {
     "data": {
      "application/vnd.jupyter.widget-view+json": {
       "model_id": "3ab618f308ea4fb48c13a8bce6e88479",
       "version_major": 2,
       "version_minor": 0
      },
      "text/plain": [
       "Creating parquet from Arrow format:   0%|          | 0/1029 [00:00<?, ?ba/s]"
      ]
     },
     "metadata": {},
     "output_type": "display_data"
    },
    {
     "data": {
      "text/plain": [
       "2448035609"
      ]
     },
     "execution_count": 19,
     "metadata": {},
     "output_type": "execute_result"
    }
   ],
   "source": [
    "reviews = load_from_disk(\"D:/BigData/raw_review_Beauty_and_Personal_Care\")[\"full\"]\n",
    "reviews.to_parquet(\"D:/BigData/review_parquet_Beauty_and_Personal_Care\")\n",
    "\n",
    "meta = load_from_disk(\"D:/BigData/raw_meta_Beauty_and_Personal_Care\")[\"full\"]\n",
    "meta.to_parquet(\"D:/BigData/meta_parquet_Beauty_and_Personal_Care\")"
   ]
  },
  {
   "cell_type": "code",
   "execution_count": null,
   "id": "0b106c6d",
   "metadata": {},
   "outputs": [],
   "source": [
    "review_df = spark.read.parquet(\"D:/BigData/review_parquet_Beauty_and_Personal_Care\")\n",
    "meta_df = spark.read.parquet(\"D:/BigData/meta_parquet_Beauty_and_Personal_Care\")\n",
    "\n",
    "review_df = review_df.withColumnRenamed(\"images\", \"review_images\")\n",
    "meta_df = meta_df.withColumnRenamed(\"images\", \"meta_images\")\n",
    "review_df = review_df.withColumnRenamed(\"title\", \"review_title\")\n",
    "meta_df = meta_df.withColumnRenamed(\"title\", \"meta_title\")\n",
    "\n",
    "merged_df = review_df.join(meta_df, on=\"parent_asin\", how=\"inner\")\n",
    "\n",
    "cleaned_df = clean_dataset(merged_df)"
   ]
  },
  {
   "cell_type": "markdown",
   "id": "a8b152a7",
   "metadata": {},
   "source": [
    "### Books"
   ]
  },
  {
   "cell_type": "code",
   "execution_count": 22,
   "id": "35e82930",
   "metadata": {},
   "outputs": [
    {
     "data": {
      "application/vnd.jupyter.widget-view+json": {
       "model_id": "86be22bf1cb840b1818611bb36e0fee2",
       "version_major": 2,
       "version_minor": 0
      },
      "text/plain": [
       "Loading dataset from disk:   0%|          | 0/33 [00:00<?, ?it/s]"
      ]
     },
     "metadata": {},
     "output_type": "display_data"
    },
    {
     "data": {
      "application/vnd.jupyter.widget-view+json": {
       "model_id": "c1d20e3969ac4df2a1cb59c9aa9715d8",
       "version_major": 2,
       "version_minor": 0
      },
      "text/plain": [
       "Creating parquet from Arrow format:   0%|          | 0/29476 [00:00<?, ?ba/s]"
      ]
     },
     "metadata": {},
     "output_type": "display_data"
    },
    {
     "data": {
      "application/vnd.jupyter.widget-view+json": {
       "model_id": "5ba444418b8b457185154fcb94036f44",
       "version_major": 2,
       "version_minor": 0
      },
      "text/plain": [
       "Loading dataset from disk:   0%|          | 0/28 [00:00<?, ?it/s]"
      ]
     },
     "metadata": {},
     "output_type": "display_data"
    },
    {
     "data": {
      "application/vnd.jupyter.widget-view+json": {
       "model_id": "e36a4cd2280142679d6ed3bb66c1a9af",
       "version_major": 2,
       "version_minor": 0
      },
      "text/plain": [
       "Creating parquet from Arrow format:   0%|          | 0/4449 [00:00<?, ?ba/s]"
      ]
     },
     "metadata": {},
     "output_type": "display_data"
    },
    {
     "data": {
      "text/plain": [
       "13734276777"
      ]
     },
     "execution_count": 22,
     "metadata": {},
     "output_type": "execute_result"
    }
   ],
   "source": [
    "reviews = load_from_disk(\"D:/BigData/raw_review_Books\")[\"full\"]\n",
    "reviews.to_parquet(\"D:/BigData/review_parquet_Books\")\n",
    "\n",
    "meta = load_from_disk(\"D:/BigData/raw_meta_Books\")[\"full\"]\n",
    "meta.to_parquet(\"D:/BigData/meta_parquet_Books\")"
   ]
  },
  {
   "cell_type": "code",
   "execution_count": null,
   "id": "52436a71",
   "metadata": {},
   "outputs": [],
   "source": [
    "review_df = spark.read.parquet(\"D:/BigData/review_parquet_Books\")\n",
    "meta_df = spark.read.parquet(\"D:/BigData/meta_parquet_Books\")\n",
    "\n",
    "review_df = review_df.withColumnRenamed(\"images\", \"review_images\")\n",
    "meta_df = meta_df.withColumnRenamed(\"images\", \"meta_images\")\n",
    "review_df = review_df.withColumnRenamed(\"title\", \"review_title\")\n",
    "meta_df = meta_df.withColumnRenamed(\"title\", \"meta_title\")\n",
    "\n",
    "merged_df = review_df.join(meta_df, on=\"parent_asin\", how=\"inner\")\n",
    "\n",
    "cleaned_df = clean_dataset(merged_df)"
   ]
  },
  {
   "cell_type": "markdown",
   "id": "9abc3f11",
   "metadata": {},
   "source": [
    "### CDs and Vinyl"
   ]
  },
  {
   "cell_type": "code",
   "execution_count": 24,
   "id": "b882ae4e",
   "metadata": {},
   "outputs": [
    {
     "data": {
      "application/vnd.jupyter.widget-view+json": {
       "model_id": "ff96c15e56334e8b89ea8813872a9a87",
       "version_major": 2,
       "version_minor": 0
      },
      "text/plain": [
       "Creating parquet from Arrow format:   0%|          | 0/4828 [00:00<?, ?ba/s]"
      ]
     },
     "metadata": {},
     "output_type": "display_data"
    },
    {
     "data": {
      "application/vnd.jupyter.widget-view+json": {
       "model_id": "251a5234620440caa866f544bb32c0ee",
       "version_major": 2,
       "version_minor": 0
      },
      "text/plain": [
       "Creating parquet from Arrow format:   0%|          | 0/702 [00:00<?, ?ba/s]"
      ]
     },
     "metadata": {},
     "output_type": "display_data"
    },
    {
     "data": {
      "text/plain": [
       "804107486"
      ]
     },
     "execution_count": 24,
     "metadata": {},
     "output_type": "execute_result"
    }
   ],
   "source": [
    "reviews = load_from_disk(\"D:/BigData/raw_review_CDs_and_Vinyl\")[\"full\"]\n",
    "reviews.to_parquet(\"D:/BigData/review_parquet_CDs_and_Vinyl\")\n",
    "\n",
    "meta = load_from_disk(\"D:/BigData/raw_meta_CDs_and_Vinyl\")[\"full\"]\n",
    "meta.to_parquet(\"D:/BigData/meta_parquet_CDs_and_Vinyl\")"
   ]
  },
  {
   "cell_type": "code",
   "execution_count": null,
   "id": "cfdef80b",
   "metadata": {},
   "outputs": [],
   "source": [
    "review_df = spark.read.parquet(\"D:/BigData/review_parquet_CDs_and_Vinyl\")\n",
    "meta_df = spark.read.parquet(\"D:/BigData/meta_parquet_CDs_and_Vinyl\")\n",
    "\n",
    "review_df = review_df.withColumnRenamed(\"images\", \"review_images\")\n",
    "meta_df = meta_df.withColumnRenamed(\"images\", \"meta_images\")\n",
    "review_df = review_df.withColumnRenamed(\"title\", \"review_title\")\n",
    "meta_df = meta_df.withColumnRenamed(\"title\", \"meta_title\")\n",
    "\n",
    "merged_df = review_df.join(meta_df, on=\"parent_asin\", how=\"inner\")\n",
    "\n",
    "cleaned_df = clean_dataset(merged_df)"
   ]
  },
  {
   "cell_type": "markdown",
   "id": "03626bf2",
   "metadata": {},
   "source": [
    "### Cell Phones and Accessories"
   ]
  },
  {
   "cell_type": "code",
   "execution_count": 26,
   "id": "486cabf9",
   "metadata": {},
   "outputs": [
    {
     "data": {
      "application/vnd.jupyter.widget-view+json": {
       "model_id": "a11c313055a44a71a9f77bbc28b5c2de",
       "version_major": 2,
       "version_minor": 0
      },
      "text/plain": [
       "Creating parquet from Arrow format:   0%|          | 0/20813 [00:00<?, ?ba/s]"
      ]
     },
     "metadata": {},
     "output_type": "display_data"
    },
    {
     "data": {
      "application/vnd.jupyter.widget-view+json": {
       "model_id": "48feefc4d8b34a609bf07e6184162d3d",
       "version_major": 2,
       "version_minor": 0
      },
      "text/plain": [
       "Creating parquet from Arrow format:   0%|          | 0/1289 [00:00<?, ?ba/s]"
      ]
     },
     "metadata": {},
     "output_type": "display_data"
    },
    {
     "data": {
      "text/plain": [
       "3497601110"
      ]
     },
     "execution_count": 26,
     "metadata": {},
     "output_type": "execute_result"
    }
   ],
   "source": [
    "reviews = load_from_disk(\"D:/BigData/raw_review_Cell_Phones_and_Accessories\")[\"full\"]\n",
    "reviews.to_parquet(\"D:/BigData/review_parquet_Cell_Phones_and_Accessories\")\n",
    "\n",
    "meta = load_from_disk(\"D:/BigData/raw_meta_Cell_Phones_and_Accessories\")[\"full\"]\n",
    "meta.to_parquet(\"D:/BigData/meta_parquet_Cell_Phones_and_Accessories\")"
   ]
  },
  {
   "cell_type": "code",
   "execution_count": null,
   "id": "601b5c3d",
   "metadata": {},
   "outputs": [],
   "source": [
    "review_df = spark.read.parquet(\"D:/BigData/review_parquet_Cell_Phones_and_Accessories\")\n",
    "meta_df = spark.read.parquet(\"D:/BigData/meta_parquet_Cell_Phones_and_Accessories\")\n",
    "\n",
    "review_df = review_df.withColumnRenamed(\"images\", \"review_images\")\n",
    "meta_df = meta_df.withColumnRenamed(\"images\", \"meta_images\")\n",
    "review_df = review_df.withColumnRenamed(\"title\", \"review_title\")\n",
    "meta_df = meta_df.withColumnRenamed(\"title\", \"meta_title\")\n",
    "\n",
    "merged_df = review_df.join(meta_df, on=\"parent_asin\", how=\"inner\")\n",
    "\n",
    "cleaned_df = clean_dataset(merged_df)"
   ]
  },
  {
   "cell_type": "markdown",
   "id": "a19ec7cc",
   "metadata": {},
   "source": [
    "### Clothing Shoes and Jewelry"
   ]
  },
  {
   "cell_type": "code",
   "execution_count": 28,
   "id": "0ffe7ee3",
   "metadata": {},
   "outputs": [
    {
     "data": {
      "application/vnd.jupyter.widget-view+json": {
       "model_id": "4f4db081792a46038709ce076a4a2f79",
       "version_major": 2,
       "version_minor": 0
      },
      "text/plain": [
       "Loading dataset from disk:   0%|          | 0/38 [00:00<?, ?it/s]"
      ]
     },
     "metadata": {},
     "output_type": "display_data"
    },
    {
     "data": {
      "application/vnd.jupyter.widget-view+json": {
       "model_id": "86bf10a719904b10bed662667d362062",
       "version_major": 2,
       "version_minor": 0
      },
      "text/plain": [
       "Creating parquet from Arrow format:   0%|          | 0/66034 [00:00<?, ?ba/s]"
      ]
     },
     "metadata": {},
     "output_type": "display_data"
    },
    {
     "data": {
      "application/vnd.jupyter.widget-view+json": {
       "model_id": "d2cccbef68544964ad53926896274bfa",
       "version_major": 2,
       "version_minor": 0
      },
      "text/plain": [
       "Loading dataset from disk:   0%|          | 0/31 [00:00<?, ?it/s]"
      ]
     },
     "metadata": {},
     "output_type": "display_data"
    },
    {
     "data": {
      "application/vnd.jupyter.widget-view+json": {
       "model_id": "31210fa7a9884723bcaccc4d718c89be",
       "version_major": 2,
       "version_minor": 0
      },
      "text/plain": [
       "Creating parquet from Arrow format:   0%|          | 0/7219 [00:00<?, ?ba/s]"
      ]
     },
     "metadata": {},
     "output_type": "display_data"
    },
    {
     "data": {
      "text/plain": [
       "15430352328"
      ]
     },
     "execution_count": 28,
     "metadata": {},
     "output_type": "execute_result"
    }
   ],
   "source": [
    "reviews = load_from_disk(\"D:/BigData/raw_review_Clothing_Shoes_and_Jewelry\")[\"full\"]\n",
    "reviews.to_parquet(\"D:/BigData/review_parquet_Clothing_Shoes_and_Jewelry\")\n",
    "\n",
    "meta = load_from_disk(\"D:/BigData/raw_meta_Clothing_Shoes_and_Jewelry\")[\"full\"]\n",
    "meta.to_parquet(\"D:/BigData/meta_parquet_Clothing_Shoes_and_Jewelry\")"
   ]
  },
  {
   "cell_type": "code",
   "execution_count": null,
   "id": "eacae73e",
   "metadata": {},
   "outputs": [],
   "source": [
    "review_df = spark.read.parquet(\"D:/BigData/review_parquet_Clothing_Shoes_and_Jewelry\")\n",
    "meta_df = spark.read.parquet(\"D:/BigData/meta_parquet_Clothing_Shoes_and_Jewelry\")\n",
    "\n",
    "review_df = review_df.withColumnRenamed(\"images\", \"review_images\")\n",
    "meta_df = meta_df.withColumnRenamed(\"images\", \"meta_images\")\n",
    "review_df = review_df.withColumnRenamed(\"title\", \"review_title\")\n",
    "meta_df = meta_df.withColumnRenamed(\"title\", \"meta_title\")\n",
    "\n",
    "merged_df = review_df.join(meta_df, on=\"parent_asin\", how=\"inner\")\n",
    "\n",
    "cleaned_df = clean_dataset(merged_df)"
   ]
  },
  {
   "cell_type": "markdown",
   "id": "fca72ce1",
   "metadata": {},
   "source": [
    "### Digital Music"
   ]
  },
  {
   "cell_type": "code",
   "execution_count": 30,
   "id": "5b961f66",
   "metadata": {},
   "outputs": [
    {
     "data": {
      "application/vnd.jupyter.widget-view+json": {
       "model_id": "274d5adada914105aa27411e416ec16a",
       "version_major": 2,
       "version_minor": 0
      },
      "text/plain": [
       "Creating parquet from Arrow format:   0%|          | 0/131 [00:00<?, ?ba/s]"
      ]
     },
     "metadata": {},
     "output_type": "display_data"
    },
    {
     "data": {
      "application/vnd.jupyter.widget-view+json": {
       "model_id": "5b477073ce7b4d62b112565169b814da",
       "version_major": 2,
       "version_minor": 0
      },
      "text/plain": [
       "Creating parquet from Arrow format:   0%|          | 0/71 [00:00<?, ?ba/s]"
      ]
     },
     "metadata": {},
     "output_type": "display_data"
    },
    {
     "data": {
      "text/plain": [
       "52063488"
      ]
     },
     "execution_count": 30,
     "metadata": {},
     "output_type": "execute_result"
    }
   ],
   "source": [
    "reviews = load_from_disk(\"D:/BigData/raw_review_Digital_Music\")[\"full\"]\n",
    "reviews.to_parquet(\"D:/BigData/review_parquet_Digital_Music\")\n",
    "\n",
    "meta = load_from_disk(\"D:/BigData/raw_meta_Digital_Music\")[\"full\"]\n",
    "meta.to_parquet(\"D:/BigData/meta_parquet_Digital_Music\")"
   ]
  },
  {
   "cell_type": "code",
   "execution_count": null,
   "id": "17f6fca5",
   "metadata": {},
   "outputs": [],
   "source": [
    "review_df = spark.read.parquet(\"D:/BigData/review_parquet_Digital_Music\")\n",
    "meta_df = spark.read.parquet(\"D:/BigData/meta_parquet_Digital_Music\")\n",
    "\n",
    "review_df = review_df.withColumnRenamed(\"images\", \"review_images\")\n",
    "meta_df = meta_df.withColumnRenamed(\"images\", \"meta_images\")\n",
    "review_df = review_df.withColumnRenamed(\"title\", \"review_title\")\n",
    "meta_df = meta_df.withColumnRenamed(\"title\", \"meta_title\")\n",
    "\n",
    "merged_df = review_df.join(meta_df, on=\"parent_asin\", how=\"inner\")\n",
    "\n",
    "cleaned_df = clean_dataset(merged_df)"
   ]
  },
  {
   "cell_type": "markdown",
   "id": "b905c4e2",
   "metadata": {},
   "source": [
    "### Electronics"
   ]
  },
  {
   "cell_type": "code",
   "execution_count": 32,
   "id": "68233c63",
   "metadata": {},
   "outputs": [
    {
     "data": {
      "application/vnd.jupyter.widget-view+json": {
       "model_id": "1d7a2c666e7241bc969448d19a3a4e21",
       "version_major": 2,
       "version_minor": 0
      },
      "text/plain": [
       "Loading dataset from disk:   0%|          | 0/34 [00:00<?, ?it/s]"
      ]
     },
     "metadata": {},
     "output_type": "display_data"
    },
    {
     "data": {
      "application/vnd.jupyter.widget-view+json": {
       "model_id": "6a85a2f8e4fa42a3a2000b8c8265d303",
       "version_major": 2,
       "version_minor": 0
      },
      "text/plain": [
       "Creating parquet from Arrow format:   0%|          | 0/43887 [00:00<?, ?ba/s]"
      ]
     },
     "metadata": {},
     "output_type": "display_data"
    },
    {
     "data": {
      "application/vnd.jupyter.widget-view+json": {
       "model_id": "428245c08ab446448922908715c57bf4",
       "version_major": 2,
       "version_minor": 0
      },
      "text/plain": [
       "Creating parquet from Arrow format:   0%|          | 0/1611 [00:00<?, ?ba/s]"
      ]
     },
     "metadata": {},
     "output_type": "display_data"
    },
    {
     "data": {
      "text/plain": [
       "4603611085"
      ]
     },
     "execution_count": 32,
     "metadata": {},
     "output_type": "execute_result"
    }
   ],
   "source": [
    "reviews = load_from_disk(\"D:/BigData/raw_review_Electronics\")[\"full\"]\n",
    "reviews.to_parquet(\"D:/BigData/review_parquet_Electronics\")\n",
    "\n",
    "meta = load_from_disk(\"D:/BigData/raw_meta_Electronics\")[\"full\"]\n",
    "meta.to_parquet(\"D:/BigData/meta_parquet_Electronics\")"
   ]
  },
  {
   "cell_type": "code",
   "execution_count": null,
   "id": "11a93bab",
   "metadata": {},
   "outputs": [],
   "source": [
    "review_df = spark.read.parquet(\"D:/BigData/review_parquet_Electronics\")\n",
    "meta_df = spark.read.parquet(\"D:/BigData/meta_parquet_Electronics\")\n",
    "\n",
    "review_df = review_df.withColumnRenamed(\"images\", \"review_images\")\n",
    "meta_df = meta_df.withColumnRenamed(\"images\", \"meta_images\")\n",
    "review_df = review_df.withColumnRenamed(\"title\", \"review_title\")\n",
    "meta_df = meta_df.withColumnRenamed(\"title\", \"meta_title\")\n",
    "\n",
    "merged_df = review_df.join(meta_df, on=\"parent_asin\", how=\"inner\")\n",
    "\n",
    "cleaned_df = clean_dataset(merged_df)"
   ]
  },
  {
   "cell_type": "markdown",
   "id": "6d41ee0e",
   "metadata": {},
   "source": [
    "### Gift Cards"
   ]
  },
  {
   "cell_type": "code",
   "execution_count": 34,
   "id": "95909894",
   "metadata": {},
   "outputs": [
    {
     "data": {
      "application/vnd.jupyter.widget-view+json": {
       "model_id": "02818778a06d420aa8b7e6549d69c417",
       "version_major": 2,
       "version_minor": 0
      },
      "text/plain": [
       "Creating parquet from Arrow format:   0%|          | 0/153 [00:00<?, ?ba/s]"
      ]
     },
     "metadata": {},
     "output_type": "display_data"
    },
    {
     "data": {
      "application/vnd.jupyter.widget-view+json": {
       "model_id": "44f909be79db4633bed1b0cf9a7d519c",
       "version_major": 2,
       "version_minor": 0
      },
      "text/plain": [
       "Creating parquet from Arrow format:   0%|          | 0/2 [00:00<?, ?ba/s]"
      ]
     },
     "metadata": {},
     "output_type": "display_data"
    },
    {
     "data": {
      "text/plain": [
       "1740761"
      ]
     },
     "execution_count": 34,
     "metadata": {},
     "output_type": "execute_result"
    }
   ],
   "source": [
    "reviews = load_from_disk(\"D:/BigData/raw_review_Gift_Cards\")[\"full\"]\n",
    "reviews.to_parquet(\"D:/BigData/review_parquet_Gift_Cards\")\n",
    "\n",
    "meta = load_from_disk(\"D:/BigData/raw_meta_Gift_Cards\")[\"full\"]\n",
    "meta.to_parquet(\"D:/BigData/meta_parquet_Gift_Cards\")"
   ]
  },
  {
   "cell_type": "code",
   "execution_count": null,
   "id": "519655e0",
   "metadata": {},
   "outputs": [],
   "source": [
    "review_df = spark.read.parquet(\"D:/BigData/review_parquet_Gift_Cards\")\n",
    "meta_df = spark.read.parquet(\"D:/BigData/meta_parquet_Gift_Cards\")\n",
    "\n",
    "review_df = review_df.withColumnRenamed(\"images\", \"review_images\")\n",
    "meta_df = meta_df.withColumnRenamed(\"images\", \"meta_images\")\n",
    "review_df = review_df.withColumnRenamed(\"title\", \"review_title\")\n",
    "meta_df = meta_df.withColumnRenamed(\"title\", \"meta_title\")\n",
    "\n",
    "merged_df = review_df.join(meta_df, on=\"parent_asin\", how=\"inner\")\n",
    "\n",
    "cleaned_df = clean_dataset(merged_df)"
   ]
  },
  {
   "cell_type": "markdown",
   "id": "a7f76269",
   "metadata": {},
   "source": [
    "### Grocery and Gourmet Food"
   ]
  },
  {
   "cell_type": "code",
   "execution_count": 36,
   "id": "cb49a4bd",
   "metadata": {},
   "outputs": [
    {
     "data": {
      "application/vnd.jupyter.widget-view+json": {
       "model_id": "519031a7b2284e18b4586ccd71d7f292",
       "version_major": 2,
       "version_minor": 0
      },
      "text/plain": [
       "Creating parquet from Arrow format:   0%|          | 0/14319 [00:00<?, ?ba/s]"
      ]
     },
     "metadata": {},
     "output_type": "display_data"
    },
    {
     "data": {
      "application/vnd.jupyter.widget-view+json": {
       "model_id": "7ef1967941784826b877179f609143ff",
       "version_major": 2,
       "version_minor": 0
      },
      "text/plain": [
       "Creating parquet from Arrow format:   0%|          | 0/604 [00:00<?, ?ba/s]"
      ]
     },
     "metadata": {},
     "output_type": "display_data"
    },
    {
     "data": {
      "text/plain": [
       "1178355442"
      ]
     },
     "execution_count": 36,
     "metadata": {},
     "output_type": "execute_result"
    }
   ],
   "source": [
    "reviews = load_from_disk(\"D:/BigData/raw_review_Grocery_and_Gourmet_Food\")[\"full\"]\n",
    "reviews.to_parquet(\"D:/BigData/review_parquet_Grocery_and_Gourmet_Food\")\n",
    "\n",
    "meta = load_from_disk(\"D:/BigData/raw_meta_Grocery_and_Gourmet_Food\")[\"full\"]\n",
    "meta.to_parquet(\"D:/BigData/meta_parquet_Grocery_and_Gourmet_Food\")"
   ]
  },
  {
   "cell_type": "code",
   "execution_count": null,
   "id": "0ff051af",
   "metadata": {},
   "outputs": [],
   "source": [
    "review_df = spark.read.parquet(\"D:/BigData/review_parquet_Grocery_and_Gourmet_Food\")\n",
    "meta_df = spark.read.parquet(\"D:/BigData/meta_parquet_Grocery_and_Gourmet_Food\")\n",
    "\n",
    "review_df = review_df.withColumnRenamed(\"images\", \"review_images\")\n",
    "meta_df = meta_df.withColumnRenamed(\"images\", \"meta_images\")\n",
    "review_df = review_df.withColumnRenamed(\"title\", \"review_title\")\n",
    "meta_df = meta_df.withColumnRenamed(\"title\", \"meta_title\")\n",
    "\n",
    "merged_df = review_df.join(meta_df, on=\"parent_asin\", how=\"inner\")\n",
    "\n",
    "cleaned_df = clean_dataset(merged_df)"
   ]
  },
  {
   "cell_type": "markdown",
   "id": "5519e928",
   "metadata": {},
   "source": [
    "### Handmade Products"
   ]
  },
  {
   "cell_type": "code",
   "execution_count": 38,
   "id": "aa76e12c",
   "metadata": {},
   "outputs": [
    {
     "data": {
      "application/vnd.jupyter.widget-view+json": {
       "model_id": "1bc90a4b91a44ab2b930d4349194bfb5",
       "version_major": 2,
       "version_minor": 0
      },
      "text/plain": [
       "Creating parquet from Arrow format:   0%|          | 0/665 [00:00<?, ?ba/s]"
      ]
     },
     "metadata": {},
     "output_type": "display_data"
    },
    {
     "data": {
      "application/vnd.jupyter.widget-view+json": {
       "model_id": "bef69f55b8a44cbbac46bace0fa679d7",
       "version_major": 2,
       "version_minor": 0
      },
      "text/plain": [
       "Creating parquet from Arrow format:   0%|          | 0/165 [00:00<?, ?ba/s]"
      ]
     },
     "metadata": {},
     "output_type": "display_data"
    },
    {
     "data": {
      "text/plain": [
       "340772183"
      ]
     },
     "execution_count": 38,
     "metadata": {},
     "output_type": "execute_result"
    }
   ],
   "source": [
    "reviews = load_from_disk(\"D:/BigData/raw_review_Handmade_Products\")[\"full\"]\n",
    "reviews.to_parquet(\"D:/BigData/review_parquet_Handmade_Products\")\n",
    "\n",
    "meta = load_from_disk(\"D:/BigData/raw_meta_Handmade_Products\")[\"full\"]\n",
    "meta.to_parquet(\"D:/BigData/meta_parquet_Handmade_Products\")"
   ]
  },
  {
   "cell_type": "code",
   "execution_count": null,
   "id": "ae3435dc",
   "metadata": {},
   "outputs": [],
   "source": [
    "review_df = spark.read.parquet(\"D:/BigData/review_parquet_Handmade_Products\")\n",
    "meta_df = spark.read.parquet(\"D:/BigData/meta_parquet_Handmade_Products\")\n",
    "\n",
    "review_df = review_df.withColumnRenamed(\"images\", \"review_images\")\n",
    "meta_df = meta_df.withColumnRenamed(\"images\", \"meta_images\")\n",
    "review_df = review_df.withColumnRenamed(\"title\", \"review_title\")\n",
    "meta_df = meta_df.withColumnRenamed(\"title\", \"meta_title\")\n",
    "\n",
    "merged_df = review_df.join(meta_df, on=\"parent_asin\", how=\"inner\")\n",
    "\n",
    "cleaned_df = clean_dataset(merged_df)"
   ]
  },
  {
   "cell_type": "markdown",
   "id": "17a3e040",
   "metadata": {},
   "source": [
    "### Health and Household"
   ]
  },
  {
   "cell_type": "code",
   "execution_count": 40,
   "id": "a0b82da3",
   "metadata": {},
   "outputs": [
    {
     "data": {
      "application/vnd.jupyter.widget-view+json": {
       "model_id": "de7c4d4f58a647fe8e91436f6ac4f89d",
       "version_major": 2,
       "version_minor": 0
      },
      "text/plain": [
       "Creating parquet from Arrow format:   0%|          | 0/25632 [00:00<?, ?ba/s]"
      ]
     },
     "metadata": {},
     "output_type": "display_data"
    },
    {
     "data": {
      "application/vnd.jupyter.widget-view+json": {
       "model_id": "ab7c1d6178194f6b946ea76268c703d2",
       "version_major": 2,
       "version_minor": 0
      },
      "text/plain": [
       "Creating parquet from Arrow format:   0%|          | 0/798 [00:00<?, ?ba/s]"
      ]
     },
     "metadata": {},
     "output_type": "display_data"
    },
    {
     "data": {
      "text/plain": [
       "2152348034"
      ]
     },
     "execution_count": 40,
     "metadata": {},
     "output_type": "execute_result"
    }
   ],
   "source": [
    "reviews = load_from_disk(\"D:/BigData/raw_review_Health_and_Household\")[\"full\"]\n",
    "reviews.to_parquet(\"D:/BigData/review_parquet_Health_and_Household\")\n",
    "\n",
    "meta = load_from_disk(\"D:/BigData/raw_meta_Health_and_Household\")[\"full\"]\n",
    "meta.to_parquet(\"D:/BigData/meta_parquet_Health_and_Household\")"
   ]
  },
  {
   "cell_type": "code",
   "execution_count": null,
   "id": "3f3dc4ff",
   "metadata": {},
   "outputs": [],
   "source": [
    "review_df = spark.read.parquet(\"D:/BigData/review_parquet_Health_and_Household\")\n",
    "meta_df = spark.read.parquet(\"D:/BigData/meta_parquet_Health_and_Household\")\n",
    "\n",
    "review_df = review_df.withColumnRenamed(\"images\", \"review_images\")\n",
    "meta_df = meta_df.withColumnRenamed(\"images\", \"meta_images\")\n",
    "review_df = review_df.withColumnRenamed(\"title\", \"review_title\")\n",
    "meta_df = meta_df.withColumnRenamed(\"title\", \"meta_title\")\n",
    "\n",
    "merged_df = review_df.join(meta_df, on=\"parent_asin\", how=\"inner\")\n",
    "\n",
    "cleaned_df = clean_dataset(merged_df)"
   ]
  },
  {
   "cell_type": "markdown",
   "id": "d40b332f",
   "metadata": {},
   "source": [
    "### Health and Personal Care"
   ]
  },
  {
   "cell_type": "code",
   "execution_count": 42,
   "id": "957eba51",
   "metadata": {},
   "outputs": [
    {
     "data": {
      "application/vnd.jupyter.widget-view+json": {
       "model_id": "51420f5afdbc42179779283386d45570",
       "version_major": 2,
       "version_minor": 0
      },
      "text/plain": [
       "Creating parquet from Arrow format:   0%|          | 0/495 [00:00<?, ?ba/s]"
      ]
     },
     "metadata": {},
     "output_type": "display_data"
    },
    {
     "data": {
      "application/vnd.jupyter.widget-view+json": {
       "model_id": "86507076bafa4e97a49d31dde9a6f9f9",
       "version_major": 2,
       "version_minor": 0
      },
      "text/plain": [
       "Creating parquet from Arrow format:   0%|          | 0/61 [00:00<?, ?ba/s]"
      ]
     },
     "metadata": {},
     "output_type": "display_data"
    },
    {
     "data": {
      "text/plain": [
       "97345359"
      ]
     },
     "execution_count": 42,
     "metadata": {},
     "output_type": "execute_result"
    }
   ],
   "source": [
    "reviews = load_from_disk(\"D:/BigData/raw_review_Health_and_Personal_Care\")[\"full\"]\n",
    "reviews.to_parquet(\"D:/BigData/review_parquet_Health_and_Personal_Care\")\n",
    "\n",
    "meta = load_from_disk(\"D:/BigData/raw_meta_Health_and_Personal_Care\")[\"full\"]\n",
    "meta.to_parquet(\"D:/BigData/meta_parquet_Health_and_Personal_Care\")"
   ]
  },
  {
   "cell_type": "code",
   "execution_count": null,
   "id": "6b7ed5db",
   "metadata": {},
   "outputs": [],
   "source": [
    "review_df = spark.read.parquet(\"D:/BigData/review_parquet_Health_and_Personal_Care\")\n",
    "meta_df = spark.read.parquet(\"D:/BigData/meta_parquet_Health_and_Personal_Care\")\n",
    "\n",
    "review_df = review_df.withColumnRenamed(\"images\", \"review_images\")\n",
    "meta_df = meta_df.withColumnRenamed(\"images\", \"meta_images\")\n",
    "review_df = review_df.withColumnRenamed(\"title\", \"review_title\")\n",
    "meta_df = meta_df.withColumnRenamed(\"title\", \"meta_title\")\n",
    "\n",
    "merged_df = review_df.join(meta_df, on=\"parent_asin\", how=\"inner\")\n",
    "\n",
    "cleaned_df = clean_dataset(merged_df)"
   ]
  },
  {
   "cell_type": "markdown",
   "id": "650be576",
   "metadata": {},
   "source": [
    "### Home and Kitchen"
   ]
  },
  {
   "cell_type": "code",
   "execution_count": 44,
   "id": "58747a27",
   "metadata": {},
   "outputs": [
    {
     "data": {
      "application/vnd.jupyter.widget-view+json": {
       "model_id": "3903e889900b4c138252dd3281001b9c",
       "version_major": 2,
       "version_minor": 0
      },
      "text/plain": [
       "Loading dataset from disk:   0%|          | 0/45 [00:00<?, ?it/s]"
      ]
     },
     "metadata": {},
     "output_type": "display_data"
    },
    {
     "data": {
      "application/vnd.jupyter.widget-view+json": {
       "model_id": "3e8920742a1d4f2aa9469c9928d3a115",
       "version_major": 2,
       "version_minor": 0
      },
      "text/plain": [
       "Creating parquet from Arrow format:   0%|          | 0/67410 [00:00<?, ?ba/s]"
      ]
     },
     "metadata": {},
     "output_type": "display_data"
    },
    {
     "data": {
      "application/vnd.jupyter.widget-view+json": {
       "model_id": "4d2893fff98d406fb2beebe149e18c98",
       "version_major": 2,
       "version_minor": 0
      },
      "text/plain": [
       "Loading dataset from disk:   0%|          | 0/21 [00:00<?, ?it/s]"
      ]
     },
     "metadata": {},
     "output_type": "display_data"
    },
    {
     "data": {
      "application/vnd.jupyter.widget-view+json": {
       "model_id": "cdd346594612408394032a9580bc71e8",
       "version_major": 2,
       "version_minor": 0
      },
      "text/plain": [
       "Creating parquet from Arrow format:   0%|          | 0/3736 [00:00<?, ?ba/s]"
      ]
     },
     "metadata": {},
     "output_type": "display_data"
    },
    {
     "data": {
      "text/plain": [
       "10319696112"
      ]
     },
     "execution_count": 44,
     "metadata": {},
     "output_type": "execute_result"
    }
   ],
   "source": [
    "reviews = load_from_disk(\"D:/BigData/raw_review_Home_and_Kitchen\")[\"full\"]\n",
    "reviews.to_parquet(\"D:/BigData/review_parquet_Home_and_Kitchen\")\n",
    "\n",
    "meta = load_from_disk(\"D:/BigData/raw_meta_Home_and_Kitchen\")[\"full\"]\n",
    "meta.to_parquet(\"D:/BigData/meta_parquet_Home_and_Kitchen\")"
   ]
  },
  {
   "cell_type": "code",
   "execution_count": null,
   "id": "ceb831f0",
   "metadata": {},
   "outputs": [],
   "source": [
    "review_df = spark.read.parquet(\"D:/BigData/review_parquet_Home_and_Kitchen\")\n",
    "meta_df = spark.read.parquet(\"D:/BigData/meta_parquet_Home_and_Kitchen\")\n",
    "\n",
    "review_df = review_df.withColumnRenamed(\"images\", \"review_images\")\n",
    "meta_df = meta_df.withColumnRenamed(\"images\", \"meta_images\")\n",
    "review_df = review_df.withColumnRenamed(\"title\", \"review_title\")\n",
    "meta_df = meta_df.withColumnRenamed(\"title\", \"meta_title\")\n",
    "\n",
    "merged_df = review_df.join(meta_df, on=\"parent_asin\", how=\"inner\")\n",
    "\n",
    "cleaned_df = clean_dataset(merged_df)"
   ]
  },
  {
   "cell_type": "markdown",
   "id": "a77fff86",
   "metadata": {},
   "source": [
    "### Industrial and Scientific"
   ]
  },
  {
   "cell_type": "code",
   "execution_count": 46,
   "id": "9d790a97",
   "metadata": {},
   "outputs": [
    {
     "data": {
      "application/vnd.jupyter.widget-view+json": {
       "model_id": "41fdf185eea04e28aae35d7495c6b78f",
       "version_major": 2,
       "version_minor": 0
      },
      "text/plain": [
       "Creating parquet from Arrow format:   0%|          | 0/5184 [00:00<?, ?ba/s]"
      ]
     },
     "metadata": {},
     "output_type": "display_data"
    },
    {
     "data": {
      "application/vnd.jupyter.widget-view+json": {
       "model_id": "c6ab6400c0ca4d29949cb12cd4302b02",
       "version_major": 2,
       "version_minor": 0
      },
      "text/plain": [
       "Creating parquet from Arrow format:   0%|          | 0/428 [00:00<?, ?ba/s]"
      ]
     },
     "metadata": {},
     "output_type": "display_data"
    },
    {
     "data": {
      "text/plain": [
       "986634833"
      ]
     },
     "execution_count": 46,
     "metadata": {},
     "output_type": "execute_result"
    }
   ],
   "source": [
    "reviews = load_from_disk(\"D:/BigData/raw_review_Industrial_and_Scientific\")[\"full\"]\n",
    "reviews.to_parquet(\"D:/BigData/review_parquet_Industrial_and_Scientific\")\n",
    "\n",
    "meta = load_from_disk(\"D:/BigData/raw_meta_Industrial_and_Scientific\")[\"full\"]\n",
    "meta.to_parquet(\"D:/BigData/meta_parquet_Industrial_and_Scientific\")"
   ]
  },
  {
   "cell_type": "code",
   "execution_count": null,
   "id": "27b2f4c5",
   "metadata": {},
   "outputs": [],
   "source": [
    "review_df = spark.read.parquet(\"D:/BigData/review_parquet_Industrial_and_Scientific\")\n",
    "meta_df = spark.read.parquet(\"D:/BigData/meta_parquet_Industrial_and_Scientific\")\n",
    "\n",
    "review_df = review_df.withColumnRenamed(\"images\", \"review_images\")\n",
    "meta_df = meta_df.withColumnRenamed(\"images\", \"meta_images\")\n",
    "review_df = review_df.withColumnRenamed(\"title\", \"review_title\")\n",
    "meta_df = meta_df.withColumnRenamed(\"title\", \"meta_title\")\n",
    "\n",
    "merged_df = review_df.join(meta_df, on=\"parent_asin\", how=\"inner\")\n",
    "\n",
    "cleaned_df = clean_dataset(merged_df)"
   ]
  },
  {
   "cell_type": "markdown",
   "id": "99432587",
   "metadata": {},
   "source": [
    "### Kindle Store"
   ]
  },
  {
   "cell_type": "code",
   "execution_count": 48,
   "id": "a27f5294",
   "metadata": {},
   "outputs": [
    {
     "data": {
      "application/vnd.jupyter.widget-view+json": {
       "model_id": "f20a1627e0f8416a9bd37c324ee0b734",
       "version_major": 2,
       "version_minor": 0
      },
      "text/plain": [
       "Loading dataset from disk:   0%|          | 0/25 [00:00<?, ?it/s]"
      ]
     },
     "metadata": {},
     "output_type": "display_data"
    },
    {
     "data": {
      "application/vnd.jupyter.widget-view+json": {
       "model_id": "de6dc60b8e584885b2a408e68c686f45",
       "version_major": 2,
       "version_minor": 0
      },
      "text/plain": [
       "Creating parquet from Arrow format:   0%|          | 0/25578 [00:00<?, ?ba/s]"
      ]
     },
     "metadata": {},
     "output_type": "display_data"
    },
    {
     "data": {
      "application/vnd.jupyter.widget-view+json": {
       "model_id": "88f29d07fd9249dea0c076cff42c110c",
       "version_major": 2,
       "version_minor": 0
      },
      "text/plain": [
       "Creating parquet from Arrow format:   0%|          | 0/1592 [00:00<?, ?ba/s]"
      ]
     },
     "metadata": {},
     "output_type": "display_data"
    },
    {
     "data": {
      "text/plain": [
       "6494217841"
      ]
     },
     "execution_count": 48,
     "metadata": {},
     "output_type": "execute_result"
    }
   ],
   "source": [
    "reviews = load_from_disk(\"D:/BigData/raw_review_Kindle_Store\")[\"full\"]\n",
    "reviews.to_parquet(\"D:/BigData/review_parquet_Kindle_Store\")\n",
    "\n",
    "meta = load_from_disk(\"D:/BigData/raw_meta_Kindle_Store\")[\"full\"]\n",
    "meta.to_parquet(\"D:/BigData/meta_parquet_Kindle_Store\")"
   ]
  },
  {
   "cell_type": "code",
   "execution_count": null,
   "id": "52d69343",
   "metadata": {},
   "outputs": [],
   "source": [
    "review_df = spark.read.parquet(\"D:/BigData/review_parquet_Kindle_Store\")\n",
    "meta_df = spark.read.parquet(\"D:/BigData/meta_parquet_Kindle_Store\")\n",
    "\n",
    "review_df = review_df.withColumnRenamed(\"images\", \"review_images\")\n",
    "meta_df = meta_df.withColumnRenamed(\"images\", \"meta_images\")\n",
    "review_df = review_df.withColumnRenamed(\"title\", \"review_title\")\n",
    "meta_df = meta_df.withColumnRenamed(\"title\", \"meta_title\")\n",
    "\n",
    "merged_df = review_df.join(meta_df, on=\"parent_asin\", how=\"inner\")\n",
    "\n",
    "cleaned_df = clean_dataset(merged_df)"
   ]
  },
  {
   "cell_type": "markdown",
   "id": "fafd3436",
   "metadata": {},
   "source": [
    "### Magazine Subscriptions"
   ]
  },
  {
   "cell_type": "code",
   "execution_count": 50,
   "id": "cd0fdefa",
   "metadata": {},
   "outputs": [
    {
     "data": {
      "application/vnd.jupyter.widget-view+json": {
       "model_id": "5f7fb19cb6894fadaabf35b801bfcc53",
       "version_major": 2,
       "version_minor": 0
      },
      "text/plain": [
       "Creating parquet from Arrow format:   0%|          | 0/72 [00:00<?, ?ba/s]"
      ]
     },
     "metadata": {},
     "output_type": "display_data"
    },
    {
     "data": {
      "application/vnd.jupyter.widget-view+json": {
       "model_id": "41c45681747349fc8854c011333da132",
       "version_major": 2,
       "version_minor": 0
      },
      "text/plain": [
       "Creating parquet from Arrow format:   0%|          | 0/4 [00:00<?, ?ba/s]"
      ]
     },
     "metadata": {},
     "output_type": "display_data"
    },
    {
     "data": {
      "text/plain": [
       "3247117"
      ]
     },
     "execution_count": 50,
     "metadata": {},
     "output_type": "execute_result"
    }
   ],
   "source": [
    "reviews = load_from_disk(\"D:/BigData/raw_review_Magazine_Subscriptions\")[\"full\"]\n",
    "reviews.to_parquet(\"D:/BigData/review_parquet_Magazine_Subscriptions\")\n",
    "\n",
    "meta = load_from_disk(\"D:/BigData/raw_meta_Magazine_Subscriptions\")[\"full\"]\n",
    "meta.to_parquet(\"D:/BigData/meta_parquet_Magazine_Subscriptions\")"
   ]
  },
  {
   "cell_type": "code",
   "execution_count": null,
   "id": "d8c855f5",
   "metadata": {},
   "outputs": [],
   "source": [
    "review_df = spark.read.parquet(\"D:/BigData/review_parquet_Magazine_Subscriptions\")\n",
    "meta_df = spark.read.parquet(\"D:/BigData/meta_parquet_Magazine_Subscriptions\")\n",
    "\n",
    "review_df = review_df.withColumnRenamed(\"images\", \"review_images\")\n",
    "meta_df = meta_df.withColumnRenamed(\"images\", \"meta_images\")\n",
    "review_df = review_df.withColumnRenamed(\"title\", \"review_title\")\n",
    "meta_df = meta_df.withColumnRenamed(\"title\", \"meta_title\")\n",
    "\n",
    "merged_df = review_df.join(meta_df, on=\"parent_asin\", how=\"inner\")\n",
    "\n",
    "cleaned_df = clean_dataset(merged_df)"
   ]
  },
  {
   "cell_type": "markdown",
   "id": "d126d3fc",
   "metadata": {},
   "source": [
    "### Movies and TV"
   ]
  },
  {
   "cell_type": "code",
   "execution_count": 52,
   "id": "cc23456b",
   "metadata": {},
   "outputs": [
    {
     "data": {
      "application/vnd.jupyter.widget-view+json": {
       "model_id": "b65e60091cf645fe8defa30111417660",
       "version_major": 2,
       "version_minor": 0
      },
      "text/plain": [
       "Creating parquet from Arrow format:   0%|          | 0/17329 [00:00<?, ?ba/s]"
      ]
     },
     "metadata": {},
     "output_type": "display_data"
    },
    {
     "data": {
      "application/vnd.jupyter.widget-view+json": {
       "model_id": "f360a375294d470494cfb3b253f87821",
       "version_major": 2,
       "version_minor": 0
      },
      "text/plain": [
       "Creating parquet from Arrow format:   0%|          | 0/749 [00:00<?, ?ba/s]"
      ]
     },
     "metadata": {},
     "output_type": "display_data"
    },
    {
     "data": {
      "text/plain": [
       "834700736"
      ]
     },
     "execution_count": 52,
     "metadata": {},
     "output_type": "execute_result"
    }
   ],
   "source": [
    "reviews = load_from_disk(\"D:/BigData/raw_review_Movies_and_TV\")[\"full\"]\n",
    "reviews.to_parquet(\"D:/BigData/review_parquet_Movies_and_TV\")\n",
    "\n",
    "meta = load_from_disk(\"D:/BigData/raw_meta_Movies_and_TV\")[\"full\"]\n",
    "meta.to_parquet(\"D:/BigData/meta_parquet_Movies_and_TV\")"
   ]
  },
  {
   "cell_type": "code",
   "execution_count": null,
   "id": "66fa9479",
   "metadata": {},
   "outputs": [],
   "source": [
    "review_df = spark.read.parquet(\"D:/BigData/review_parquet_Movies_and_TV\")\n",
    "meta_df = spark.read.parquet(\"D:/BigData/meta_parquet_Movies_and_TV\")\n",
    "\n",
    "review_df = review_df.withColumnRenamed(\"images\", \"review_images\")\n",
    "meta_df = meta_df.withColumnRenamed(\"images\", \"meta_images\")\n",
    "review_df = review_df.withColumnRenamed(\"title\", \"review_title\")\n",
    "meta_df = meta_df.withColumnRenamed(\"title\", \"meta_title\")\n",
    "\n",
    "merged_df = review_df.join(meta_df, on=\"parent_asin\", how=\"inner\")\n",
    "\n",
    "cleaned_df = clean_dataset(merged_df)"
   ]
  },
  {
   "cell_type": "markdown",
   "id": "7a7b1102",
   "metadata": {},
   "source": [
    "### Musical Instruments"
   ]
  },
  {
   "cell_type": "code",
   "execution_count": 54,
   "id": "d2e51d3c",
   "metadata": {},
   "outputs": [
    {
     "data": {
      "application/vnd.jupyter.widget-view+json": {
       "model_id": "00c8b2c76b2f40fcadcb026f50ac5679",
       "version_major": 2,
       "version_minor": 0
      },
      "text/plain": [
       "Creating parquet from Arrow format:   0%|          | 0/3018 [00:00<?, ?ba/s]"
      ]
     },
     "metadata": {},
     "output_type": "display_data"
    },
    {
     "data": {
      "application/vnd.jupyter.widget-view+json": {
       "model_id": "d41383697e0b4bf5962d9594698cabef",
       "version_major": 2,
       "version_minor": 0
      },
      "text/plain": [
       "Creating parquet from Arrow format:   0%|          | 0/214 [00:00<?, ?ba/s]"
      ]
     },
     "metadata": {},
     "output_type": "display_data"
    },
    {
     "data": {
      "text/plain": [
       "553296902"
      ]
     },
     "execution_count": 54,
     "metadata": {},
     "output_type": "execute_result"
    }
   ],
   "source": [
    "reviews = load_from_disk(\"D:/BigData/raw_review_Musical_Instruments\")[\"full\"]\n",
    "reviews.to_parquet(\"D:/BigData/review_parquet_Musical_Instruments\")\n",
    "\n",
    "meta = load_from_disk(\"D:/BigData/raw_meta_Musical_Instruments\")[\"full\"]\n",
    "meta.to_parquet(\"D:/BigData/meta_parquet_Musical_Instruments\")"
   ]
  },
  {
   "cell_type": "code",
   "execution_count": null,
   "id": "9ba5ab76",
   "metadata": {},
   "outputs": [],
   "source": [
    "review_df = spark.read.parquet(\"D:/BigData/review_parquet_Musical_Instruments\")\n",
    "meta_df = spark.read.parquet(\"D:/BigData/meta_parquet_Musical_Instruments\")\n",
    "\n",
    "review_df = review_df.withColumnRenamed(\"images\", \"review_images\")\n",
    "meta_df = meta_df.withColumnRenamed(\"images\", \"meta_images\")\n",
    "review_df = review_df.withColumnRenamed(\"title\", \"review_title\")\n",
    "meta_df = meta_df.withColumnRenamed(\"title\", \"meta_title\")\n",
    "\n",
    "merged_df = review_df.join(meta_df, on=\"parent_asin\", how=\"inner\")\n",
    "\n",
    "cleaned_df = clean_dataset(merged_df)"
   ]
  },
  {
   "cell_type": "markdown",
   "id": "855b39e3",
   "metadata": {},
   "source": [
    "### Office Products"
   ]
  },
  {
   "cell_type": "code",
   "execution_count": 56,
   "id": "fdceb078",
   "metadata": {},
   "outputs": [
    {
     "data": {
      "application/vnd.jupyter.widget-view+json": {
       "model_id": "9ce9a004a32e4783916c22b6784f3d02",
       "version_major": 2,
       "version_minor": 0
      },
      "text/plain": [
       "Creating parquet from Arrow format:   0%|          | 0/12846 [00:00<?, ?ba/s]"
      ]
     },
     "metadata": {},
     "output_type": "display_data"
    },
    {
     "data": {
      "application/vnd.jupyter.widget-view+json": {
       "model_id": "3c83bc9ba12645b3984b02842bd1229a",
       "version_major": 2,
       "version_minor": 0
      },
      "text/plain": [
       "Creating parquet from Arrow format:   0%|          | 0/711 [00:00<?, ?ba/s]"
      ]
     },
     "metadata": {},
     "output_type": "display_data"
    },
    {
     "data": {
      "text/plain": [
       "1878241877"
      ]
     },
     "execution_count": 56,
     "metadata": {},
     "output_type": "execute_result"
    }
   ],
   "source": [
    "reviews = load_from_disk(\"D:/BigData/raw_review_Office_Products\")[\"full\"]\n",
    "reviews.to_parquet(\"D:/BigData/review_parquet_Office_Products\")\n",
    "\n",
    "meta = load_from_disk(\"D:/BigData/raw_meta_Office_Products\")[\"full\"]\n",
    "meta.to_parquet(\"D:/BigData/meta_parquet_Office_Products\")"
   ]
  },
  {
   "cell_type": "code",
   "execution_count": null,
   "id": "fcdc45e6",
   "metadata": {},
   "outputs": [],
   "source": [
    "review_df = spark.read.parquet(\"D:/BigData/review_parquet_Office_Products\")\n",
    "meta_df = spark.read.parquet(\"D:/BigData/meta_parquet_Office_Products\")\n",
    "\n",
    "review_df = review_df.withColumnRenamed(\"images\", \"review_images\")\n",
    "meta_df = meta_df.withColumnRenamed(\"images\", \"meta_images\")\n",
    "review_df = review_df.withColumnRenamed(\"title\", \"review_title\")\n",
    "meta_df = meta_df.withColumnRenamed(\"title\", \"meta_title\")\n",
    "\n",
    "merged_df = review_df.join(meta_df, on=\"parent_asin\", how=\"inner\")\n",
    "\n",
    "cleaned_df = clean_dataset(merged_df)"
   ]
  },
  {
   "cell_type": "markdown",
   "id": "71b03ceb",
   "metadata": {},
   "source": [
    "### Patio Lawn and Garden"
   ]
  },
  {
   "cell_type": "code",
   "execution_count": 58,
   "id": "9c97e04b",
   "metadata": {},
   "outputs": [
    {
     "data": {
      "application/vnd.jupyter.widget-view+json": {
       "model_id": "af41a77582a9444ca7321eb762ec0c6e",
       "version_major": 2,
       "version_minor": 0
      },
      "text/plain": [
       "Creating parquet from Arrow format:   0%|          | 0/16491 [00:00<?, ?ba/s]"
      ]
     },
     "metadata": {},
     "output_type": "display_data"
    },
    {
     "data": {
      "application/vnd.jupyter.widget-view+json": {
       "model_id": "f16e4f793781481194c67f1d6a5ae211",
       "version_major": 2,
       "version_minor": 0
      },
      "text/plain": [
       "Creating parquet from Arrow format:   0%|          | 0/852 [00:00<?, ?ba/s]"
      ]
     },
     "metadata": {},
     "output_type": "display_data"
    },
    {
     "data": {
      "text/plain": [
       "2373221087"
      ]
     },
     "execution_count": 58,
     "metadata": {},
     "output_type": "execute_result"
    }
   ],
   "source": [
    "reviews = load_from_disk(\"D:/BigData/raw_review_Patio_Lawn_and_Garden\")[\"full\"]\n",
    "reviews.to_parquet(\"D:/BigData/review_parquet_Patio_Lawn_and_Garden\")\n",
    "\n",
    "meta = load_from_disk(\"D:/BigData/raw_meta_Patio_Lawn_and_Garden\")[\"full\"]\n",
    "meta.to_parquet(\"D:/BigData/meta_parquet_Patio_Lawn_and_Garden\")"
   ]
  },
  {
   "cell_type": "code",
   "execution_count": null,
   "id": "034a4e9a",
   "metadata": {},
   "outputs": [],
   "source": [
    "review_df = spark.read.parquet(\"D:/BigData/review_parquet_Patio_Lawn_and_Garden\")\n",
    "meta_df = spark.read.parquet(\"D:/BigData/meta_parquet_Patio_Lawn_and_Garden\")\n",
    "\n",
    "review_df = review_df.withColumnRenamed(\"images\", \"review_images\")\n",
    "meta_df = meta_df.withColumnRenamed(\"images\", \"meta_images\")\n",
    "review_df = review_df.withColumnRenamed(\"title\", \"review_title\")\n",
    "meta_df = meta_df.withColumnRenamed(\"title\", \"meta_title\")\n",
    "\n",
    "merged_df = review_df.join(meta_df, on=\"parent_asin\", how=\"inner\")\n",
    "\n",
    "cleaned_df = clean_dataset(merged_df)"
   ]
  },
  {
   "cell_type": "markdown",
   "id": "778df801",
   "metadata": {},
   "source": [
    "### Pet Supplies"
   ]
  },
  {
   "cell_type": "code",
   "execution_count": 60,
   "id": "a5f1a0c7",
   "metadata": {},
   "outputs": [
    {
     "data": {
      "application/vnd.jupyter.widget-view+json": {
       "model_id": "783f25030d6d467e80251794a98d245c",
       "version_major": 2,
       "version_minor": 0
      },
      "text/plain": [
       "Creating parquet from Arrow format:   0%|          | 0/16828 [00:00<?, ?ba/s]"
      ]
     },
     "metadata": {},
     "output_type": "display_data"
    },
    {
     "data": {
      "application/vnd.jupyter.widget-view+json": {
       "model_id": "f7395363c5a84a26992f0c5b8469e9c8",
       "version_major": 2,
       "version_minor": 0
      },
      "text/plain": [
       "Creating parquet from Arrow format:   0%|          | 0/493 [00:00<?, ?ba/s]"
      ]
     },
     "metadata": {},
     "output_type": "display_data"
    },
    {
     "data": {
      "text/plain": [
       "1362181702"
      ]
     },
     "execution_count": 60,
     "metadata": {},
     "output_type": "execute_result"
    }
   ],
   "source": [
    "reviews = load_from_disk(\"D:/BigData/raw_review_Pet_Supplies\")[\"full\"]\n",
    "reviews.to_parquet(\"D:/BigData/review_parquet_Pet_Supplies\")\n",
    "\n",
    "meta = load_from_disk(\"D:/BigData/raw_meta_Pet_Supplies\")[\"full\"]\n",
    "meta.to_parquet(\"D:/BigData/meta_parquet_Pet_Supplies\")"
   ]
  },
  {
   "cell_type": "code",
   "execution_count": null,
   "id": "22892a39",
   "metadata": {},
   "outputs": [],
   "source": [
    "review_df = spark.read.parquet(\"D:/BigData/review_parquet_Pet_Supplies\")\n",
    "meta_df = spark.read.parquet(\"D:/BigData/meta_parquet_Pet_Supplies\")\n",
    "\n",
    "review_df = review_df.withColumnRenamed(\"images\", \"review_images\")\n",
    "meta_df = meta_df.withColumnRenamed(\"images\", \"meta_images\")\n",
    "review_df = review_df.withColumnRenamed(\"title\", \"review_title\")\n",
    "meta_df = meta_df.withColumnRenamed(\"title\", \"meta_title\")\n",
    "\n",
    "merged_df = review_df.join(meta_df, on=\"parent_asin\", how=\"inner\")\n",
    "\n",
    "cleaned_df = clean_dataset(merged_df)"
   ]
  },
  {
   "cell_type": "markdown",
   "id": "bbe78bf5",
   "metadata": {},
   "source": [
    "### Software"
   ]
  },
  {
   "cell_type": "code",
   "execution_count": 62,
   "id": "8a7c0ad5",
   "metadata": {},
   "outputs": [
    {
     "data": {
      "application/vnd.jupyter.widget-view+json": {
       "model_id": "ac83277f46cf4d9f8de5995f483bcf6d",
       "version_major": 2,
       "version_minor": 0
      },
      "text/plain": [
       "Creating parquet from Arrow format:   0%|          | 0/4881 [00:00<?, ?ba/s]"
      ]
     },
     "metadata": {},
     "output_type": "display_data"
    },
    {
     "data": {
      "application/vnd.jupyter.widget-view+json": {
       "model_id": "6e0cf64bbac04c8a9113039bd115f419",
       "version_major": 2,
       "version_minor": 0
      },
      "text/plain": [
       "Creating parquet from Arrow format:   0%|          | 0/90 [00:00<?, ?ba/s]"
      ]
     },
     "metadata": {},
     "output_type": "display_data"
    },
    {
     "data": {
      "text/plain": [
       "232470037"
      ]
     },
     "execution_count": 62,
     "metadata": {},
     "output_type": "execute_result"
    }
   ],
   "source": [
    "reviews = load_from_disk(\"D:/BigData/raw_review_Software\")[\"full\"]\n",
    "reviews.to_parquet(\"D:/BigData/review_parquet_Software\")\n",
    "\n",
    "meta = load_from_disk(\"D:/BigData/raw_meta_Software\")[\"full\"]\n",
    "meta.to_parquet(\"D:/BigData/meta_parquet_Software\")"
   ]
  },
  {
   "cell_type": "code",
   "execution_count": null,
   "id": "a695f049",
   "metadata": {},
   "outputs": [],
   "source": [
    "review_df = spark.read.parquet(\"D:/BigData/review_parquet_Software\")\n",
    "meta_df = spark.read.parquet(\"D:/BigData/meta_parquet_Software\")\n",
    "\n",
    "review_df = review_df.withColumnRenamed(\"images\", \"review_images\")\n",
    "meta_df = meta_df.withColumnRenamed(\"images\", \"meta_images\")\n",
    "review_df = review_df.withColumnRenamed(\"title\", \"review_title\")\n",
    "meta_df = meta_df.withColumnRenamed(\"title\", \"meta_title\")\n",
    "\n",
    "merged_df = review_df.join(meta_df, on=\"parent_asin\", how=\"inner\")\n",
    "\n",
    "cleaned_df = clean_dataset(merged_df)"
   ]
  },
  {
   "cell_type": "markdown",
   "id": "d7af7b12",
   "metadata": {},
   "source": [
    "### Sports and Outdoors"
   ]
  },
  {
   "cell_type": "code",
   "execution_count": 64,
   "id": "2a70d7fd",
   "metadata": {},
   "outputs": [
    {
     "data": {
      "application/vnd.jupyter.widget-view+json": {
       "model_id": "22d4d4aeeed3473886a2fb7e165a437a",
       "version_major": 2,
       "version_minor": 0
      },
      "text/plain": [
       "Creating parquet from Arrow format:   0%|          | 0/19596 [00:00<?, ?ba/s]"
      ]
     },
     "metadata": {},
     "output_type": "display_data"
    },
    {
     "data": {
      "application/vnd.jupyter.widget-view+json": {
       "model_id": "797e3d07addc4add83f2edcd020dc879",
       "version_major": 2,
       "version_minor": 0
      },
      "text/plain": [
       "Creating parquet from Arrow format:   0%|          | 0/1588 [00:00<?, ?ba/s]"
      ]
     },
     "metadata": {},
     "output_type": "display_data"
    },
    {
     "data": {
      "text/plain": [
       "3618269396"
      ]
     },
     "execution_count": 64,
     "metadata": {},
     "output_type": "execute_result"
    }
   ],
   "source": [
    "reviews = load_from_disk(\"D:/BigData/raw_review_Sports_and_Outdoors\")[\"full\"]\n",
    "reviews.to_parquet(\"D:/BigData/review_parquet_Sports_and_Outdoors\")\n",
    "\n",
    "meta = load_from_disk(\"D:/BigData/raw_meta_Sports_and_Outdoors\")[\"full\"]\n",
    "meta.to_parquet(\"D:/BigData/meta_parquet_Sports_and_Outdoors\")"
   ]
  },
  {
   "cell_type": "code",
   "execution_count": null,
   "id": "28bd8185",
   "metadata": {},
   "outputs": [],
   "source": [
    "review_df = spark.read.parquet(\"D:/BigData/review_parquet_Sports_and_Outdoors\")\n",
    "meta_df = spark.read.parquet(\"D:/BigData/meta_parquet_Sports_and_Outdoors\")\n",
    "\n",
    "review_df = review_df.withColumnRenamed(\"images\", \"review_images\")\n",
    "meta_df = meta_df.withColumnRenamed(\"images\", \"meta_images\")\n",
    "review_df = review_df.withColumnRenamed(\"title\", \"review_title\")\n",
    "meta_df = meta_df.withColumnRenamed(\"title\", \"meta_title\")\n",
    "\n",
    "merged_df = review_df.join(meta_df, on=\"parent_asin\", how=\"inner\")\n",
    "\n",
    "cleaned_df = clean_dataset(merged_df)"
   ]
  },
  {
   "cell_type": "markdown",
   "id": "5b9376d1",
   "metadata": {},
   "source": [
    "### Subscription Boxes"
   ]
  },
  {
   "cell_type": "code",
   "execution_count": 66,
   "id": "d2f24392",
   "metadata": {},
   "outputs": [
    {
     "data": {
      "application/vnd.jupyter.widget-view+json": {
       "model_id": "a0ca5140061c4aeb98818d94da321ede",
       "version_major": 2,
       "version_minor": 0
      },
      "text/plain": [
       "Creating parquet from Arrow format:   0%|          | 0/17 [00:00<?, ?ba/s]"
      ]
     },
     "metadata": {},
     "output_type": "display_data"
    },
    {
     "data": {
      "application/vnd.jupyter.widget-view+json": {
       "model_id": "0b26b99abed84413a16f713273d88362",
       "version_major": 2,
       "version_minor": 0
      },
      "text/plain": [
       "Creating parquet from Arrow format:   0%|          | 0/1 [00:00<?, ?ba/s]"
      ]
     },
     "metadata": {},
     "output_type": "display_data"
    },
    {
     "data": {
      "text/plain": [
       "1169913"
      ]
     },
     "execution_count": 66,
     "metadata": {},
     "output_type": "execute_result"
    }
   ],
   "source": [
    "reviews = load_from_disk(\"D:/BigData/raw_review_Subscription_Boxes\")[\"full\"]\n",
    "reviews.to_parquet(\"D:/BigData/review_parquet_Subscription_Boxes\")\n",
    "\n",
    "meta = load_from_disk(\"D:/BigData/raw_meta_Subscription_Boxes\")[\"full\"]\n",
    "meta.to_parquet(\"D:/BigData/meta_parquet_Subscription_Boxes\")"
   ]
  },
  {
   "cell_type": "code",
   "execution_count": null,
   "id": "0148f672",
   "metadata": {},
   "outputs": [],
   "source": [
    "review_df = spark.read.parquet(\"D:/BigData/review_parquet_Subscription_Boxes\")\n",
    "meta_df = spark.read.parquet(\"D:/BigData/meta_parquet_Subscription_Boxes\")\n",
    "\n",
    "review_df = review_df.withColumnRenamed(\"images\", \"review_images\")\n",
    "meta_df = meta_df.withColumnRenamed(\"images\", \"meta_images\")\n",
    "review_df = review_df.withColumnRenamed(\"title\", \"review_title\")\n",
    "meta_df = meta_df.withColumnRenamed(\"title\", \"meta_title\")\n",
    "\n",
    "merged_df = review_df.join(meta_df, on=\"parent_asin\", how=\"inner\")\n",
    "\n",
    "cleaned_df = clean_dataset(merged_df)"
   ]
  },
  {
   "cell_type": "markdown",
   "id": "abbcac55",
   "metadata": {},
   "source": [
    "### Tools and Home Improvement"
   ]
  },
  {
   "cell_type": "code",
   "execution_count": 68,
   "id": "cad2bf1b",
   "metadata": {},
   "outputs": [
    {
     "data": {
      "application/vnd.jupyter.widget-view+json": {
       "model_id": "465597813f5a40e896e074a9dc5e51b7",
       "version_major": 2,
       "version_minor": 0
      },
      "text/plain": [
       "Loading dataset from disk:   0%|          | 0/19 [00:00<?, ?it/s]"
      ]
     },
     "metadata": {},
     "output_type": "display_data"
    },
    {
     "data": {
      "application/vnd.jupyter.widget-view+json": {
       "model_id": "56567c9451864cd2b98e095a9fb449b5",
       "version_major": 2,
       "version_minor": 0
      },
      "text/plain": [
       "Creating parquet from Arrow format:   0%|          | 0/26983 [00:00<?, ?ba/s]"
      ]
     },
     "metadata": {},
     "output_type": "display_data"
    },
    {
     "data": {
      "application/vnd.jupyter.widget-view+json": {
       "model_id": "60c4b5cde8524f1a990723c3e2097a22",
       "version_major": 2,
       "version_minor": 0
      },
      "text/plain": [
       "Creating parquet from Arrow format:   0%|          | 0/1474 [00:00<?, ?ba/s]"
      ]
     },
     "metadata": {},
     "output_type": "display_data"
    },
    {
     "data": {
      "text/plain": [
       "4276745510"
      ]
     },
     "execution_count": 68,
     "metadata": {},
     "output_type": "execute_result"
    }
   ],
   "source": [
    "reviews = load_from_disk(\"D:/BigData/raw_review_Tools_and_Home_Improvement\")[\"full\"]\n",
    "reviews.to_parquet(\"D:/BigData/review_parquet_Tools_and_Home_Improvement\")\n",
    "\n",
    "meta = load_from_disk(\"D:/BigData/raw_meta_Tools_and_Home_Improvement\")[\"full\"]\n",
    "meta.to_parquet(\"D:/BigData/meta_parquet_Tools_and_Home_Improvement\")"
   ]
  },
  {
   "cell_type": "code",
   "execution_count": null,
   "id": "4eddd446",
   "metadata": {},
   "outputs": [],
   "source": [
    "review_df = spark.read.parquet(\"D:/BigData/review_parquet_Tools_and_Home_Improvement\")\n",
    "meta_df = spark.read.parquet(\"D:/BigData/meta_parquet_Tools_and_Home_Improvement\")\n",
    "\n",
    "review_df = review_df.withColumnRenamed(\"images\", \"review_images\")\n",
    "meta_df = meta_df.withColumnRenamed(\"images\", \"meta_images\")\n",
    "review_df = review_df.withColumnRenamed(\"title\", \"review_title\")\n",
    "meta_df = meta_df.withColumnRenamed(\"title\", \"meta_title\")\n",
    "\n",
    "merged_df = review_df.join(meta_df, on=\"parent_asin\", how=\"inner\")\n",
    "\n",
    "cleaned_df = clean_dataset(merged_df)"
   ]
  },
  {
   "cell_type": "markdown",
   "id": "a5c8b00f",
   "metadata": {},
   "source": [
    "### Toys and Games"
   ]
  },
  {
   "cell_type": "code",
   "execution_count": 70,
   "id": "eb340564",
   "metadata": {},
   "outputs": [
    {
     "data": {
      "application/vnd.jupyter.widget-view+json": {
       "model_id": "e5dfe05781754386bcecfc1b7ace95c0",
       "version_major": 2,
       "version_minor": 0
      },
      "text/plain": [
       "Creating parquet from Arrow format:   0%|          | 0/16261 [00:00<?, ?ba/s]"
      ]
     },
     "metadata": {},
     "output_type": "display_data"
    },
    {
     "data": {
      "application/vnd.jupyter.widget-view+json": {
       "model_id": "ee3fa6dff936428f97aeca88782a3860",
       "version_major": 2,
       "version_minor": 0
      },
      "text/plain": [
       "Creating parquet from Arrow format:   0%|          | 0/891 [00:00<?, ?ba/s]"
      ]
     },
     "metadata": {},
     "output_type": "display_data"
    },
    {
     "data": {
      "text/plain": [
       "2291740523"
      ]
     },
     "execution_count": 70,
     "metadata": {},
     "output_type": "execute_result"
    }
   ],
   "source": [
    "reviews = load_from_disk(\"D:/BigData/raw_review_Toys_and_Games\")[\"full\"]\n",
    "reviews.to_parquet(\"D:/BigData/review_parquet_Toys_and_Games\")\n",
    "\n",
    "meta = load_from_disk(\"D:/BigData/raw_meta_Toys_and_Games\")[\"full\"]\n",
    "meta.to_parquet(\"D:/BigData/meta_parquet_Toys_and_Games\")"
   ]
  },
  {
   "cell_type": "code",
   "execution_count": null,
   "id": "83ae2618",
   "metadata": {},
   "outputs": [],
   "source": [
    "review_df = spark.read.parquet(\"D:/BigData/review_parquet_Toys_and_Games\")\n",
    "meta_df = spark.read.parquet(\"D:/BigData/meta_parquet_Toys_and_Games\")\n",
    "\n",
    "review_df = review_df.withColumnRenamed(\"images\", \"review_images\")\n",
    "meta_df = meta_df.withColumnRenamed(\"images\", \"meta_images\")\n",
    "review_df = review_df.withColumnRenamed(\"title\", \"review_title\")\n",
    "meta_df = meta_df.withColumnRenamed(\"title\", \"meta_title\")\n",
    "\n",
    "merged_df = review_df.join(meta_df, on=\"parent_asin\", how=\"inner\")\n",
    "\n",
    "cleaned_df = clean_dataset(merged_df)"
   ]
  },
  {
   "cell_type": "markdown",
   "id": "2ecb39dc",
   "metadata": {},
   "source": [
    "### Unknown"
   ]
  },
  {
   "cell_type": "code",
   "execution_count": 73,
   "id": "b3146269",
   "metadata": {},
   "outputs": [
    {
     "data": {
      "application/vnd.jupyter.widget-view+json": {
       "model_id": "db581ab6d13f4a17a12a90fbb76c6f75",
       "version_major": 2,
       "version_minor": 0
      },
      "text/plain": [
       "Loading dataset from disk:   0%|          | 0/43 [00:00<?, ?it/s]"
      ]
     },
     "metadata": {},
     "output_type": "display_data"
    },
    {
     "data": {
      "application/vnd.jupyter.widget-view+json": {
       "model_id": "ba49b0886cd74ad6904679c803ce04f9",
       "version_major": 2,
       "version_minor": 0
      },
      "text/plain": [
       "Creating parquet from Arrow format:   0%|          | 0/63815 [00:00<?, ?ba/s]"
      ]
     },
     "metadata": {},
     "output_type": "display_data"
    },
    {
     "data": {
      "application/vnd.jupyter.widget-view+json": {
       "model_id": "9c9da92db66742c88f3d4b0415d122ca",
       "version_major": 2,
       "version_minor": 0
      },
      "text/plain": [
       "Creating parquet from Arrow format:   0%|          | 0/391 [00:00<?, ?ba/s]"
      ]
     },
     "metadata": {},
     "output_type": "display_data"
    },
    {
     "data": {
      "text/plain": [
       "548067424"
      ]
     },
     "execution_count": 73,
     "metadata": {},
     "output_type": "execute_result"
    }
   ],
   "source": [
    "reviews = load_from_disk(\"D:/BigData/raw_review_Unknown\")[\"full\"]\n",
    "reviews.to_parquet(\"D:/BigData/review_parquet_Unknown\")\n",
    "\n",
    "meta = load_from_disk(\"D:/BigData/raw_meta_Unknown\")[\"full\"]\n",
    "meta.to_parquet(\"D:/BigData/meta_parquet_Unknown\")"
   ]
  },
  {
   "cell_type": "code",
   "execution_count": null,
   "id": "26ab482e",
   "metadata": {},
   "outputs": [],
   "source": [
    "review_df = spark.read.parquet(\"D:/BigData/review_parquet_Unknown\")\n",
    "meta_df = spark.read.parquet(\"D:/BigData/meta_parquet_Unknown\")\n",
    "\n",
    "review_df = review_df.withColumnRenamed(\"images\", \"review_images\")\n",
    "meta_df = meta_df.withColumnRenamed(\"images\", \"meta_images\")\n",
    "review_df = review_df.withColumnRenamed(\"title\", \"review_title\")\n",
    "meta_df = meta_df.withColumnRenamed(\"title\", \"meta_title\")\n",
    "\n",
    "merged_df = review_df.join(meta_df, on=\"parent_asin\", how=\"inner\")\n",
    "\n",
    "cleaned_df = clean_dataset(merged_df)"
   ]
  },
  {
   "cell_type": "markdown",
   "id": "3cc19cb2",
   "metadata": {},
   "source": [
    "### Video Games"
   ]
  },
  {
   "cell_type": "code",
   "execution_count": 75,
   "id": "eb831772",
   "metadata": {},
   "outputs": [
    {
     "data": {
      "application/vnd.jupyter.widget-view+json": {
       "model_id": "e9188cf8afcb4257a7664586e32ba8e4",
       "version_major": 2,
       "version_minor": 0
      },
      "text/plain": [
       "Creating parquet from Arrow format:   0%|          | 0/4625 [00:00<?, ?ba/s]"
      ]
     },
     "metadata": {},
     "output_type": "display_data"
    },
    {
     "data": {
      "application/vnd.jupyter.widget-view+json": {
       "model_id": "832882a943a64dc9b55eb3fe99532c7e",
       "version_major": 2,
       "version_minor": 0
      },
      "text/plain": [
       "Creating parquet from Arrow format:   0%|          | 0/138 [00:00<?, ?ba/s]"
      ]
     },
     "metadata": {},
     "output_type": "display_data"
    },
    {
     "data": {
      "text/plain": [
       "383799939"
      ]
     },
     "execution_count": 75,
     "metadata": {},
     "output_type": "execute_result"
    }
   ],
   "source": [
    "reviews = load_from_disk(\"D:/BigData/raw_review_Video_Games\")[\"full\"]\n",
    "reviews.to_parquet(\"D:/BigData/review_parquet_Video_Games\")\n",
    "\n",
    "meta = load_from_disk(\"D:/BigData/raw_meta_Video_Games\")[\"full\"]\n",
    "meta.to_parquet(\"D:/BigData/meta_parquet_Video_Games\")"
   ]
  },
  {
   "cell_type": "code",
   "execution_count": null,
   "id": "25cee189",
   "metadata": {},
   "outputs": [],
   "source": [
    "review_df = spark.read.parquet(\"D:/BigData/review_parquet_Video_Games\")\n",
    "meta_df = spark.read.parquet(\"D:/BigData/meta_parquet_Video_Games\")\n",
    "\n",
    "review_df = review_df.withColumnRenamed(\"images\", \"review_images\")\n",
    "meta_df = meta_df.withColumnRenamed(\"images\", \"meta_images\")\n",
    "review_df = review_df.withColumnRenamed(\"title\", \"review_title\")\n",
    "meta_df = meta_df.withColumnRenamed(\"title\", \"meta_title\")\n",
    "\n",
    "merged_df = review_df.join(meta_df, on=\"parent_asin\", how=\"inner\")\n",
    "\n",
    "cleaned_df = clean_dataset(merged_df)"
   ]
  }
 ],
 "metadata": {
  "kernelspec": {
   "display_name": "Python 3",
   "language": "python",
   "name": "python3"
  },
  "language_info": {
   "codemirror_mode": {
    "name": "ipython",
    "version": 3
   },
   "file_extension": ".py",
   "mimetype": "text/x-python",
   "name": "python",
   "nbconvert_exporter": "python",
   "pygments_lexer": "ipython3",
   "version": "3.13.2"
  }
 },
 "nbformat": 4,
 "nbformat_minor": 5
}
